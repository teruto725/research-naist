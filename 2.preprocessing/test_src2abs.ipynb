{
 "cells": [
  {
   "cell_type": "code",
   "execution_count": 1,
   "metadata": {},
   "outputs": [],
   "source": [
    "import lizard\n",
    "import pandas as pd\n",
    "import subprocess"
   ]
  },
  {
   "cell_type": "markdown",
   "metadata": {},
   "source": [
    "プログラム上でメソッドの抽象化を行う"
   ]
  },
  {
   "cell_type": "code",
   "execution_count": 8,
   "metadata": {},
   "outputs": [
    {
     "name": "stdout",
     "output_type": "stream",
     "text": [
      "<class 'pandas.core.frame.DataFrame'>\n",
      "Int64Index: 783 entries, 0 to 782\n",
      "Data columns (total 11 columns):\n",
      " #   Column                Non-Null Count  Dtype  \n",
      "---  ------                --------------  -----  \n",
      " 0   comments_id           783 non-null    object \n",
      " 1   line                  783 non-null    float64\n",
      " 2   message               783 non-null    object \n",
      " 3   range.start_line      680 non-null    float64\n",
      " 4   range.end_line        680 non-null    float64\n",
      " 5   filepath_before       783 non-null    object \n",
      " 6   filepath_after        783 non-null    object \n",
      " 7   is_gerrit             783 non-null    bool   \n",
      " 8   repository_name       783 non-null    object \n",
      " 9   methods_before_count  783 non-null    int64  \n",
      " 10  methods_after_count   783 non-null    int64  \n",
      "dtypes: bool(1), float64(3), int64(2), object(5)\n",
      "memory usage: 68.1+ KB\n"
     ]
    }
   ],
   "source": [
    "df = pd.read_pickle(\"3_review_df.pkl\")\n",
    "df.info()"
   ]
  },
  {
   "cell_type": "code",
   "execution_count": 7,
   "metadata": {},
   "outputs": [
    {
     "name": "stdout",
     "output_type": "stream",
     "text": [
      "Source Code Abstracted successfully!\n",
      "Abstracted Code: ./test.java\n",
      "Mapping: ./test.java.map\n"
     ]
    }
   ],
   "source": [
    "# subprocess でjavaファイル\n",
    "import subprocess\n",
    "\n",
    "input_file_path = \"./0a880965_e08adf83_0_after.java\"\n",
    "\n",
    "cp = subprocess.run([\"java\", \"-jar\",\"src2abs-0.1-jar-with-dependencies.jar\", \"single\",\"method\",input_file_path,\"./test.java\",\"./idioms.csv\"])\n",
    "\n"
   ]
  },
  {
   "cell_type": "markdown",
   "metadata": {},
   "source": []
  }
 ],
 "metadata": {
  "interpreter": {
   "hash": "8b52450082a8de8a5b45e8be08c34f8d57cccdae220137bb0eba7ea176d16052"
  },
  "kernelspec": {
   "display_name": "Python 3.8.2 64-bit ('venv': venv)",
   "name": "python3"
  },
  "language_info": {
   "codemirror_mode": {
    "name": "ipython",
    "version": 3
   },
   "file_extension": ".py",
   "mimetype": "text/x-python",
   "name": "python",
   "nbconvert_exporter": "python",
   "pygments_lexer": "ipython3",
   "version": "3.8.2"
  },
  "orig_nbformat": 4
 },
 "nbformat": 4,
 "nbformat_minor": 2
}
