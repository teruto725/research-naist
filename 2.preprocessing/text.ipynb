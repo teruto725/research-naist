{
 "cells": [
  {
   "cell_type": "code",
   "execution_count": 1,
   "metadata": {},
   "outputs": [],
   "source": [
    "import lizard\n",
    "import pandas as pd"
   ]
  },
  {
   "cell_type": "code",
   "execution_count": 2,
   "metadata": {},
   "outputs": [
    {
     "name": "stdout",
     "output_type": "stream",
     "text": [
      "<class 'pandas.core.frame.DataFrame'>\n",
      "RangeIndex: 30802 entries, 0 to 30801\n",
      "Data columns (total 26 columns):\n",
      " #   Column                 Non-Null Count  Dtype  \n",
      "---  ------                 --------------  -----  \n",
      " 0   index                  30802 non-null  int64  \n",
      " 1   change_message_id      30802 non-null  object \n",
      " 2   unresolved             30802 non-null  bool   \n",
      " 3   patch_set              30802 non-null  int64  \n",
      " 4   id                     30802 non-null  object \n",
      " 5   updated                30802 non-null  object \n",
      " 6   message                30802 non-null  object \n",
      " 7   commit_id              30802 non-null  object \n",
      " 8   author._account_id     30802 non-null  int64  \n",
      " 9   author.name            30802 non-null  object \n",
      " 10  author.email           30794 non-null  object \n",
      " 11  author.avatars         30802 non-null  object \n",
      " 12  author.status          3705 non-null   object \n",
      " 13  in_reply_to            16016 non-null  object \n",
      " 14  change_id              30802 non-null  object \n",
      " 15  path                   30802 non-null  object \n",
      " 16  line                   30802 non-null  float64\n",
      " 17  range.start_line       18884 non-null  float64\n",
      " 18  range.start_character  18884 non-null  float64\n",
      " 19  range.end_line         18884 non-null  float64\n",
      " 20  range.end_character    18884 non-null  float64\n",
      " 21  side                   432 non-null    object \n",
      " 22  author.username        190 non-null    object \n",
      " 23  author.display_name    828 non-null    object \n",
      " 24  author.inactive        213 non-null    object \n",
      " 25  tag                    771 non-null    object \n",
      "dtypes: bool(1), float64(5), int64(3), object(17)\n",
      "memory usage: 5.9+ MB\n",
      "None\n",
      "<class 'pandas.core.frame.DataFrame'>\n",
      "RangeIndex: 28750 entries, 0 to 28749\n",
      "Data columns (total 17 columns):\n",
      " #   Column               Non-Null Count  Dtype  \n",
      "---  ------               --------------  -----  \n",
      " 0   change_type          28750 non-null  object \n",
      " 1   content              28750 non-null  object \n",
      " 2   meta_a.name          28229 non-null  object \n",
      " 3   meta_a.content_type  28229 non-null  object \n",
      " 4   meta_a.lines         28229 non-null  float64\n",
      " 5   meta_a.web_links     26691 non-null  object \n",
      " 6   meta_b.name          28741 non-null  object \n",
      " 7   meta_b.content_type  28741 non-null  object \n",
      " 8   meta_b.lines         28741 non-null  float64\n",
      " 9   meta_b.web_links     27203 non-null  object \n",
      " 10  changes_id           28750 non-null  object \n",
      " 11  revisions_id         28750 non-null  object \n",
      " 12  path                 28750 non-null  object \n",
      " 13  patch_set_a          28750 non-null  int64  \n",
      " 14  patch_set_b          28750 non-null  int64  \n",
      " 15  comments_id          28750 non-null  object \n",
      " 16  diff_header          21195 non-null  object \n",
      "dtypes: float64(2), int64(2), object(13)\n",
      "memory usage: 3.7+ MB\n",
      "None\n"
     ]
    }
   ],
   "source": [
    "comments_read_df = pd.read_pickle(\"../1.crawling/scraped_files/chromium/comments.pkl\")\n",
    "print(comments_read_df.info())\n",
    "diff_read_df = pd.read_pickle(\"../1.crawling/scraped_files/chromium/diff.pkl\")\n",
    "print(diff_read_df.info())"
   ]
  },
  {
   "cell_type": "code",
   "execution_count": 58,
   "metadata": {},
   "outputs": [],
   "source": [
    "# いらないカラムをdropする\n",
    "comments_df = comments_read_df.loc[:,[\"id\",\"line\",\"message\",\"range.start_line\",\"range.end_line\"]] \n",
    "diff_df = diff_read_df.loc[:,[\"comments_id\",\"content\",\"changes_id\",\"revisions_id\",\"path\"]]"
   ]
  },
  {
   "cell_type": "code",
   "execution_count": 59,
   "metadata": {},
   "outputs": [
    {
     "name": "stdout",
     "output_type": "stream",
     "text": [
      "<class 'pandas.core.frame.DataFrame'>\n",
      "Int64Index: 3274 entries, 3274 to 6551\n",
      "Data columns (total 5 columns):\n",
      " #   Column        Non-Null Count  Dtype \n",
      "---  ------        --------------  ----- \n",
      " 0   comments_id   3274 non-null   object\n",
      " 1   content       3274 non-null   object\n",
      " 2   changes_id    3274 non-null   object\n",
      " 3   revisions_id  3274 non-null   object\n",
      " 4   path          3274 non-null   object\n",
      "dtypes: object(5)\n",
      "memory usage: 153.5+ KB\n"
     ]
    }
   ],
   "source": [
    "diff_df = diff_df[diff_df[\"comments_id\"].duplicated()]\n",
    "diff_df.info()"
   ]
  },
  {
   "cell_type": "code",
   "execution_count": 60,
   "metadata": {},
   "outputs": [
    {
     "name": "stdout",
     "output_type": "stream",
     "text": [
      "<class 'pandas.core.frame.DataFrame'>\n",
      "Int64Index: 3342 entries, 3342 to 6687\n",
      "Data columns (total 5 columns):\n",
      " #   Column            Non-Null Count  Dtype  \n",
      "---  ------            --------------  -----  \n",
      " 0   id                3342 non-null   object \n",
      " 1   line              3342 non-null   float64\n",
      " 2   message           3342 non-null   object \n",
      " 3   range.start_line  2007 non-null   float64\n",
      " 4   range.end_line    2007 non-null   float64\n",
      "dtypes: float64(3), object(2)\n",
      "memory usage: 156.7+ KB\n"
     ]
    }
   ],
   "source": [
    "# 重複削除\n",
    "comments_df = comments_df[comments_df.duplicated()]\n",
    "comments_df.info()\n"
   ]
  },
  {
   "cell_type": "code",
   "execution_count": 4,
   "metadata": {},
   "outputs": [
    {
     "data": {
      "text/html": [
       "<div>\n",
       "<style scoped>\n",
       "    .dataframe tbody tr th:only-of-type {\n",
       "        vertical-align: middle;\n",
       "    }\n",
       "\n",
       "    .dataframe tbody tr th {\n",
       "        vertical-align: top;\n",
       "    }\n",
       "\n",
       "    .dataframe thead th {\n",
       "        text-align: right;\n",
       "    }\n",
       "</style>\n",
       "<table border=\"1\" class=\"dataframe\">\n",
       "  <thead>\n",
       "    <tr style=\"text-align: right;\">\n",
       "      <th></th>\n",
       "      <th>index</th>\n",
       "      <th>change_message_id</th>\n",
       "      <th>unresolved</th>\n",
       "      <th>patch_set</th>\n",
       "      <th>id</th>\n",
       "      <th>updated</th>\n",
       "      <th>message</th>\n",
       "      <th>commit_id</th>\n",
       "      <th>author._account_id</th>\n",
       "      <th>author.name</th>\n",
       "      <th>...</th>\n",
       "      <th>line</th>\n",
       "      <th>range.start_line</th>\n",
       "      <th>range.start_character</th>\n",
       "      <th>range.end_line</th>\n",
       "      <th>range.end_character</th>\n",
       "      <th>side</th>\n",
       "      <th>author.username</th>\n",
       "      <th>author.display_name</th>\n",
       "      <th>author.inactive</th>\n",
       "      <th>tag</th>\n",
       "    </tr>\n",
       "  </thead>\n",
       "  <tbody>\n",
       "    <tr>\n",
       "      <th>0</th>\n",
       "      <td>0</td>\n",
       "      <td>66648aee633913d94580304320c37ad587f1e84f</td>\n",
       "      <td>True</td>\n",
       "      <td>1</td>\n",
       "      <td>9f04e8ec_8547c47e</td>\n",
       "      <td>2021-10-14 12:25:03.000000000</td>\n",
       "      <td>I think we can drop this check now, as we have...</td>\n",
       "      <td>4bdb71e44f3404baad05a2b8dc596282c1ffc6ad</td>\n",
       "      <td>1150969</td>\n",
       "      <td>Alexander Timin</td>\n",
       "      <td>...</td>\n",
       "      <td>227.0</td>\n",
       "      <td>227.0</td>\n",
       "      <td>0.0</td>\n",
       "      <td>227.0</td>\n",
       "      <td>44.0</td>\n",
       "      <td>NaN</td>\n",
       "      <td>NaN</td>\n",
       "      <td>NaN</td>\n",
       "      <td>NaN</td>\n",
       "      <td>NaN</td>\n",
       "    </tr>\n",
       "    <tr>\n",
       "      <th>1</th>\n",
       "      <td>0</td>\n",
       "      <td>fbc8ef0b31cbbc3450ab910b54c9eeb020700eff</td>\n",
       "      <td>False</td>\n",
       "      <td>4</td>\n",
       "      <td>6a7fac5c_f2e42771</td>\n",
       "      <td>2021-10-14 19:43:21.000000000</td>\n",
       "      <td>This kills me how it doesn't match chrome/brow...</td>\n",
       "      <td>50df6cce186ad084a2bc046b6eeda427e2b216d0</td>\n",
       "      <td>1153420</td>\n",
       "      <td>Sky Malice</td>\n",
       "      <td>...</td>\n",
       "      <td>5.0</td>\n",
       "      <td>5.0</td>\n",
       "      <td>36.0</td>\n",
       "      <td>5.0</td>\n",
       "      <td>44.0</td>\n",
       "      <td>NaN</td>\n",
       "      <td>NaN</td>\n",
       "      <td>NaN</td>\n",
       "      <td>NaN</td>\n",
       "      <td>NaN</td>\n",
       "    </tr>\n",
       "    <tr>\n",
       "      <th>2</th>\n",
       "      <td>0</td>\n",
       "      <td>bd7940f2e74140ff31f7a0cfe3e68f1eb0043395</td>\n",
       "      <td>False</td>\n",
       "      <td>8</td>\n",
       "      <td>ea466c51_7931b38a</td>\n",
       "      <td>2021-10-14 16:49:02.000000000</td>\n",
       "      <td>This is something new to me. Interesting to kn...</td>\n",
       "      <td>0b50b01c363f3936e4dad038895ee3a7eb2e78da</td>\n",
       "      <td>1373353</td>\n",
       "      <td>Wenyu Fu</td>\n",
       "      <td>...</td>\n",
       "      <td>309.0</td>\n",
       "      <td>309.0</td>\n",
       "      <td>45.0</td>\n",
       "      <td>309.0</td>\n",
       "      <td>54.0</td>\n",
       "      <td>NaN</td>\n",
       "      <td>NaN</td>\n",
       "      <td>NaN</td>\n",
       "      <td>NaN</td>\n",
       "      <td>NaN</td>\n",
       "    </tr>\n",
       "    <tr>\n",
       "      <th>3</th>\n",
       "      <td>11</td>\n",
       "      <td>19a65b9069b1bff6b0b5782dfa079b037e215229</td>\n",
       "      <td>True</td>\n",
       "      <td>11</td>\n",
       "      <td>18ef0abb_c1183fd4</td>\n",
       "      <td>2021-10-14 22:56:48.000000000</td>\n",
       "      <td>Is it possible for a renderer process to someh...</td>\n",
       "      <td>dfd36b4ce12f9c5ac925604cf6d157ca0c4bff7b</td>\n",
       "      <td>1001500</td>\n",
       "      <td>Nasko Oskov</td>\n",
       "      <td>...</td>\n",
       "      <td>556.0</td>\n",
       "      <td>NaN</td>\n",
       "      <td>NaN</td>\n",
       "      <td>NaN</td>\n",
       "      <td>NaN</td>\n",
       "      <td>NaN</td>\n",
       "      <td>NaN</td>\n",
       "      <td>NaN</td>\n",
       "      <td>NaN</td>\n",
       "      <td>NaN</td>\n",
       "    </tr>\n",
       "    <tr>\n",
       "      <th>4</th>\n",
       "      <td>24</td>\n",
       "      <td>05d1ac5a830e6a47bde28f4d1281309fb2d55b2d</td>\n",
       "      <td>True</td>\n",
       "      <td>20</td>\n",
       "      <td>b88925a5_7cb75b24</td>\n",
       "      <td>2021-10-14 19:21:00.000000000</td>\n",
       "      <td>Where does this 1000ms come from? As far as I ...</td>\n",
       "      <td>58a943017db4c00da3cce11e5f053e8ba14c0170</td>\n",
       "      <td>1002411</td>\n",
       "      <td>Michael Thiessen</td>\n",
       "      <td>...</td>\n",
       "      <td>59.0</td>\n",
       "      <td>59.0</td>\n",
       "      <td>7.0</td>\n",
       "      <td>59.0</td>\n",
       "      <td>38.0</td>\n",
       "      <td>NaN</td>\n",
       "      <td>NaN</td>\n",
       "      <td>NaN</td>\n",
       "      <td>NaN</td>\n",
       "      <td>NaN</td>\n",
       "    </tr>\n",
       "    <tr>\n",
       "      <th>...</th>\n",
       "      <td>...</td>\n",
       "      <td>...</td>\n",
       "      <td>...</td>\n",
       "      <td>...</td>\n",
       "      <td>...</td>\n",
       "      <td>...</td>\n",
       "      <td>...</td>\n",
       "      <td>...</td>\n",
       "      <td>...</td>\n",
       "      <td>...</td>\n",
       "      <td>...</td>\n",
       "      <td>...</td>\n",
       "      <td>...</td>\n",
       "      <td>...</td>\n",
       "      <td>...</td>\n",
       "      <td>...</td>\n",
       "      <td>...</td>\n",
       "      <td>...</td>\n",
       "      <td>...</td>\n",
       "      <td>...</td>\n",
       "      <td>...</td>\n",
       "    </tr>\n",
       "    <tr>\n",
       "      <th>400</th>\n",
       "      <td>0</td>\n",
       "      <td>a379df1e13b7f4a67b49a5e220a5fecf37d587ad</td>\n",
       "      <td>True</td>\n",
       "      <td>1</td>\n",
       "      <td>d7d58a14_e69f7ba9</td>\n",
       "      <td>2021-03-19 19:34:07.000000000</td>\n",
       "      <td>Most of the cfg prints especially are just me ...</td>\n",
       "      <td>401ada330d933cdf37ee6a5b29a108413c1b5fad</td>\n",
       "      <td>1287197</td>\n",
       "      <td>Diana Z</td>\n",
       "      <td>...</td>\n",
       "      <td>561.0</td>\n",
       "      <td>NaN</td>\n",
       "      <td>NaN</td>\n",
       "      <td>NaN</td>\n",
       "      <td>NaN</td>\n",
       "      <td>NaN</td>\n",
       "      <td>NaN</td>\n",
       "      <td>NaN</td>\n",
       "      <td>NaN</td>\n",
       "      <td>NaN</td>\n",
       "    </tr>\n",
       "    <tr>\n",
       "      <th>401</th>\n",
       "      <td>12</td>\n",
       "      <td>11cc63a871558954ff90f1c90833cd8c96dc6e32</td>\n",
       "      <td>False</td>\n",
       "      <td>7</td>\n",
       "      <td>b65e7603_636f2095</td>\n",
       "      <td>2018-10-19 09:07:00.000000000</td>\n",
       "      <td>Nice. I hope that at some point we can kill it...</td>\n",
       "      <td>d499494a55a5f8d2f3e26e940924b416108fd625</td>\n",
       "      <td>1153089</td>\n",
       "      <td>Sergiy Belozorov</td>\n",
       "      <td>...</td>\n",
       "      <td>2394.0</td>\n",
       "      <td>NaN</td>\n",
       "      <td>NaN</td>\n",
       "      <td>NaN</td>\n",
       "      <td>NaN</td>\n",
       "      <td>NaN</td>\n",
       "      <td>NaN</td>\n",
       "      <td>NaN</td>\n",
       "      <td>NaN</td>\n",
       "      <td>NaN</td>\n",
       "    </tr>\n",
       "    <tr>\n",
       "      <th>402</th>\n",
       "      <td>0</td>\n",
       "      <td>dba7cc33240fdc9f164e6e28e72595c830b08b7b</td>\n",
       "      <td>True</td>\n",
       "      <td>1</td>\n",
       "      <td>b783f478_97bf49e1</td>\n",
       "      <td>2019-03-13 15:25:18.000000000</td>\n",
       "      <td>nit: rather write:\\nremove unmaintained mips b...</td>\n",
       "      <td>5d612627df88110a26b3ba83f551b315f01155e4</td>\n",
       "      <td>1115956</td>\n",
       "      <td>Michael Achenbach</td>\n",
       "      <td>...</td>\n",
       "      <td>7.0</td>\n",
       "      <td>7.0</td>\n",
       "      <td>8.0</td>\n",
       "      <td>7.0</td>\n",
       "      <td>37.0</td>\n",
       "      <td>NaN</td>\n",
       "      <td>NaN</td>\n",
       "      <td>NaN</td>\n",
       "      <td>NaN</td>\n",
       "      <td>NaN</td>\n",
       "    </tr>\n",
       "    <tr>\n",
       "      <th>403</th>\n",
       "      <td>0</td>\n",
       "      <td>023d8fd480c0d1571183dd1ea0b1d9e8db5eebf6</td>\n",
       "      <td>False</td>\n",
       "      <td>4</td>\n",
       "      <td>8689e5bc_b4a58ac5</td>\n",
       "      <td>2021-08-12 16:41:32.000000000</td>\n",
       "      <td>IF you know of a good way of adding these duri...</td>\n",
       "      <td>a9892d3bf4af7bdb8e54adb5892449ec4755c0bb</td>\n",
       "      <td>1393955</td>\n",
       "      <td>Goran Flegar</td>\n",
       "      <td>...</td>\n",
       "      <td>829.0</td>\n",
       "      <td>NaN</td>\n",
       "      <td>NaN</td>\n",
       "      <td>NaN</td>\n",
       "      <td>NaN</td>\n",
       "      <td>NaN</td>\n",
       "      <td>NaN</td>\n",
       "      <td>NaN</td>\n",
       "      <td>NaN</td>\n",
       "      <td>NaN</td>\n",
       "    </tr>\n",
       "    <tr>\n",
       "      <th>404</th>\n",
       "      <td>4</td>\n",
       "      <td>acfbd330da1e7a79c20426cf20a88cc581862fab</td>\n",
       "      <td>True</td>\n",
       "      <td>3</td>\n",
       "      <td>b6b5a94d_b01324a0</td>\n",
       "      <td>2021-07-16 05:53:35.000000000</td>\n",
       "      <td>&gt; drivers/gpu/drm/bridge/ite-it6505.c:2824:17:...</td>\n",
       "      <td>cf3dbada3bece6408df1051a092f8871ec23b956</td>\n",
       "      <td>1141149</td>\n",
       "      <td>Hsin-Yi Wang</td>\n",
       "      <td>...</td>\n",
       "      <td>2824.0</td>\n",
       "      <td>NaN</td>\n",
       "      <td>NaN</td>\n",
       "      <td>NaN</td>\n",
       "      <td>NaN</td>\n",
       "      <td>NaN</td>\n",
       "      <td>NaN</td>\n",
       "      <td>NaN</td>\n",
       "      <td>NaN</td>\n",
       "      <td>NaN</td>\n",
       "    </tr>\n",
       "  </tbody>\n",
       "</table>\n",
       "<p>405 rows × 26 columns</p>\n",
       "</div>"
      ],
      "text/plain": [
       "     index                         change_message_id  unresolved  patch_set  \\\n",
       "0        0  66648aee633913d94580304320c37ad587f1e84f        True          1   \n",
       "1        0  fbc8ef0b31cbbc3450ab910b54c9eeb020700eff       False          4   \n",
       "2        0  bd7940f2e74140ff31f7a0cfe3e68f1eb0043395       False          8   \n",
       "3       11  19a65b9069b1bff6b0b5782dfa079b037e215229        True         11   \n",
       "4       24  05d1ac5a830e6a47bde28f4d1281309fb2d55b2d        True         20   \n",
       "..     ...                                       ...         ...        ...   \n",
       "400      0  a379df1e13b7f4a67b49a5e220a5fecf37d587ad        True          1   \n",
       "401     12  11cc63a871558954ff90f1c90833cd8c96dc6e32       False          7   \n",
       "402      0  dba7cc33240fdc9f164e6e28e72595c830b08b7b        True          1   \n",
       "403      0  023d8fd480c0d1571183dd1ea0b1d9e8db5eebf6       False          4   \n",
       "404      4  acfbd330da1e7a79c20426cf20a88cc581862fab        True          3   \n",
       "\n",
       "                    id                        updated  \\\n",
       "0    9f04e8ec_8547c47e  2021-10-14 12:25:03.000000000   \n",
       "1    6a7fac5c_f2e42771  2021-10-14 19:43:21.000000000   \n",
       "2    ea466c51_7931b38a  2021-10-14 16:49:02.000000000   \n",
       "3    18ef0abb_c1183fd4  2021-10-14 22:56:48.000000000   \n",
       "4    b88925a5_7cb75b24  2021-10-14 19:21:00.000000000   \n",
       "..                 ...                            ...   \n",
       "400  d7d58a14_e69f7ba9  2021-03-19 19:34:07.000000000   \n",
       "401  b65e7603_636f2095  2018-10-19 09:07:00.000000000   \n",
       "402  b783f478_97bf49e1  2019-03-13 15:25:18.000000000   \n",
       "403  8689e5bc_b4a58ac5  2021-08-12 16:41:32.000000000   \n",
       "404  b6b5a94d_b01324a0  2021-07-16 05:53:35.000000000   \n",
       "\n",
       "                                               message  \\\n",
       "0    I think we can drop this check now, as we have...   \n",
       "1    This kills me how it doesn't match chrome/brow...   \n",
       "2    This is something new to me. Interesting to kn...   \n",
       "3    Is it possible for a renderer process to someh...   \n",
       "4    Where does this 1000ms come from? As far as I ...   \n",
       "..                                                 ...   \n",
       "400  Most of the cfg prints especially are just me ...   \n",
       "401  Nice. I hope that at some point we can kill it...   \n",
       "402  nit: rather write:\\nremove unmaintained mips b...   \n",
       "403  IF you know of a good way of adding these duri...   \n",
       "404  > drivers/gpu/drm/bridge/ite-it6505.c:2824:17:...   \n",
       "\n",
       "                                    commit_id  author._account_id  \\\n",
       "0    4bdb71e44f3404baad05a2b8dc596282c1ffc6ad             1150969   \n",
       "1    50df6cce186ad084a2bc046b6eeda427e2b216d0             1153420   \n",
       "2    0b50b01c363f3936e4dad038895ee3a7eb2e78da             1373353   \n",
       "3    dfd36b4ce12f9c5ac925604cf6d157ca0c4bff7b             1001500   \n",
       "4    58a943017db4c00da3cce11e5f053e8ba14c0170             1002411   \n",
       "..                                        ...                 ...   \n",
       "400  401ada330d933cdf37ee6a5b29a108413c1b5fad             1287197   \n",
       "401  d499494a55a5f8d2f3e26e940924b416108fd625             1153089   \n",
       "402  5d612627df88110a26b3ba83f551b315f01155e4             1115956   \n",
       "403  a9892d3bf4af7bdb8e54adb5892449ec4755c0bb             1393955   \n",
       "404  cf3dbada3bece6408df1051a092f8871ec23b956             1141149   \n",
       "\n",
       "           author.name  ...    line range.start_line range.start_character  \\\n",
       "0      Alexander Timin  ...   227.0            227.0                   0.0   \n",
       "1           Sky Malice  ...     5.0              5.0                  36.0   \n",
       "2             Wenyu Fu  ...   309.0            309.0                  45.0   \n",
       "3          Nasko Oskov  ...   556.0              NaN                   NaN   \n",
       "4     Michael Thiessen  ...    59.0             59.0                   7.0   \n",
       "..                 ...  ...     ...              ...                   ...   \n",
       "400            Diana Z  ...   561.0              NaN                   NaN   \n",
       "401   Sergiy Belozorov  ...  2394.0              NaN                   NaN   \n",
       "402  Michael Achenbach  ...     7.0              7.0                   8.0   \n",
       "403       Goran Flegar  ...   829.0              NaN                   NaN   \n",
       "404       Hsin-Yi Wang  ...  2824.0              NaN                   NaN   \n",
       "\n",
       "    range.end_line range.end_character side  author.username  \\\n",
       "0            227.0                44.0  NaN              NaN   \n",
       "1              5.0                44.0  NaN              NaN   \n",
       "2            309.0                54.0  NaN              NaN   \n",
       "3              NaN                 NaN  NaN              NaN   \n",
       "4             59.0                38.0  NaN              NaN   \n",
       "..             ...                 ...  ...              ...   \n",
       "400            NaN                 NaN  NaN              NaN   \n",
       "401            NaN                 NaN  NaN              NaN   \n",
       "402            7.0                37.0  NaN              NaN   \n",
       "403            NaN                 NaN  NaN              NaN   \n",
       "404            NaN                 NaN  NaN              NaN   \n",
       "\n",
       "     author.display_name  author.inactive  tag  \n",
       "0                    NaN              NaN  NaN  \n",
       "1                    NaN              NaN  NaN  \n",
       "2                    NaN              NaN  NaN  \n",
       "3                    NaN              NaN  NaN  \n",
       "4                    NaN              NaN  NaN  \n",
       "..                   ...              ...  ...  \n",
       "400                  NaN              NaN  NaN  \n",
       "401                  NaN              NaN  NaN  \n",
       "402                  NaN              NaN  NaN  \n",
       "403                  NaN              NaN  NaN  \n",
       "404                  NaN              NaN  NaN  \n",
       "\n",
       "[405 rows x 26 columns]"
      ]
     },
     "execution_count": 4,
     "metadata": {},
     "output_type": "execute_result"
    }
   ],
   "source": [
    "# revisionにコメントが単一のものだけpick\n",
    "# up\n",
    "\"\"\"\n",
    "def filter_one_comment_in_one_revision(comments_df):\n",
    "  grouped_comments_df = comments_df.groupby(\"commit_id\").size() # commit_idでカウント\n",
    "  comments_id_sr = grouped_comments_df[grouped_comments_df == 1] # 単一だけのseries\n",
    "  comments_id_df = pd.DataFrame({\"commit_id\":comments_id_sr.index})\n",
    "  result_df = pd.merge(comments_df, comments_id_df, how=\"inner\", on=\"commit_id\")\n",
    "  return result_df\n",
    "comments_df = filter_one_comment_in_one_revision(comments_df)\n",
    "comments_df\n",
    "\"\"\""
   ]
  },
  {
   "cell_type": "code",
   "execution_count": 61,
   "metadata": {},
   "outputs": [
    {
     "name": "stdout",
     "output_type": "stream",
     "text": [
      "<class 'pandas.core.frame.DataFrame'>\n",
      "Int64Index: 94 entries, 3640 to 6469\n",
      "Data columns (total 5 columns):\n",
      " #   Column        Non-Null Count  Dtype \n",
      "---  ------        --------------  ----- \n",
      " 0   comments_id   94 non-null     object\n",
      " 1   content       94 non-null     object\n",
      " 2   changes_id    94 non-null     object\n",
      " 3   revisions_id  94 non-null     object\n",
      " 4   path          94 non-null     object\n",
      "dtypes: object(5)\n",
      "memory usage: 4.4+ KB\n"
     ]
    }
   ],
   "source": [
    "# javaファイルに関するdiffのみを抽出する\n",
    "diff_df = diff_df\n",
    "diff_df = diff_df[diff_df[\"path\"].str.contains(\".java\")]\n",
    "diff_df.info()"
   ]
  },
  {
   "cell_type": "code",
   "execution_count": 62,
   "metadata": {},
   "outputs": [],
   "source": [
    "# diffのcontentが無いものは削除\n",
    "diff_df = diff_df[diff_df[\"content\"].apply(lambda x: len(x) != 1)]"
   ]
  },
  {
   "cell_type": "code",
   "execution_count": 66,
   "metadata": {},
   "outputs": [],
   "source": [
    "# diffとcommentをマージ\n",
    "comments_df = comments_df.rename(columns={'id': 'comments_id'})\n",
    "comments_df = pd.merge(comments_df, diff_df)"
   ]
  },
  {
   "cell_type": "code",
   "execution_count": 71,
   "metadata": {},
   "outputs": [],
   "source": [
    "# javaファイルの作成\n",
    "def separate_before_after(comment_id,contents):\n",
    "  before = list()\n",
    "  after = list()\n",
    "  for content in contents:\n",
    "    if \"a\" in content:\n",
    "      after.extend(content[\"a\"])\n",
    "    elif \"b\" in content:\n",
    "      before.extend(content[\"b\"])\n",
    "    elif \"ab\" in content:\n",
    "      after.extend(content[\"ab\"])\n",
    "      before.extend(content[\"ab\"])\n",
    "  with open(\"./java_files/\"+comment_id+\"_before.java\",\"w\", encoding=\"utf-8\") as f:\n",
    "    f.write(\"\\n\".join(before))\n",
    "  with open(\"./java_files/\"+comment_id+\"_after.java\",\"w\", encoding=\"utf-8\") as f:\n",
    "    f.write(\"\\n\".join(after))\n",
    "import os\n",
    "import shutil\n",
    "shutil.rmtree(\"./java_files/\")\n",
    "os.mkdir(\"./java_files/\")\n",
    "[*map(lambda x: separate_before_after(x[0],x[1]), comments_df.loc[:,[\"comments_id\",\"content\"]].values )]\n",
    "comments_df[\"filepath_before\"] = comments_df[\"comments_id\"].apply(lambda x: x+\"_before.java\")\n",
    "comments_df[\"filepath_after\"] = comments_df[\"comments_id\"].apply(lambda x: x+\"_after.java\")"
   ]
  },
  {
   "cell_type": "code",
   "execution_count": 81,
   "metadata": {},
   "outputs": [],
   "source": [
    "#  lineからmethod_name_commentedカラムの生成\n",
    "def read_file_as_list(file_path):\n",
    "  f = open(file_path, 'r')\n",
    "  lines = f.readlines()\n",
    "  f.close()\n",
    "  return lines\n",
    "\n",
    "# ファイルをlistで保存\n",
    "def save_list_as_file(file_path,li):\n",
    "  with open(file_path,\"w\", encoding=\"utf-8\") as f:\n",
    "    f.write(\"\".join(li))\n",
    "\n",
    "def get_methods_name_commented(filepath,line):\n",
    "  \n",
    "  liz = lizard.analyze_file(\"./java_files/\"+filepath)\n",
    "  for i,liz_func in enumerate(liz.function_list):\n",
    "    start_line = liz_func.__dict__[\"start_line\"]\n",
    "    end_line = liz_func.__dict__[\"end_line\"]\n",
    "    if start_line <= int(line) and line <= end_line:\n",
    "      return liz_func.__dict__[\"name\"]\n",
    "  #print(\"None\")\n",
    "  return \"None\"\n",
    "\n",
    "comments_df[\"method_name_commented\"] = comments_df.loc[:,[\"filepath_before\",\"line\"]].apply(lambda x:get_methods_name_commented(x[0],x[1]), axis=1)\n",
    "comments_df = comments_df[comments_df[\"method_name_commented\"] != \"None\"]"
   ]
  },
  {
   "cell_type": "code",
   "execution_count": 85,
   "metadata": {},
   "outputs": [
    {
     "name": "stderr",
     "output_type": "stream",
     "text": [
      "/var/folders/v9/7w9r94gd5qj0kq2g_hr6s4500000gn/T/ipykernel_60212/3276190714.py:11: SettingWithCopyWarning: \n",
      "A value is trying to be set on a copy of a slice from a DataFrame.\n",
      "Try using .loc[row_indexer,col_indexer] = value instead\n",
      "\n",
      "See the caveats in the documentation: https://pandas.pydata.org/pandas-docs/stable/user_guide/indexing.html#returning-a-view-versus-a-copy\n",
      "  comments_df[\"is_included_after\"] = comments_df.loc[:,[\"filepath_after\",\"method_name_commented\"]].apply(lambda x:is_included_after(x[0],x[1]), axis=1)\n"
     ]
    }
   ],
   "source": [
    "#  lineからmethod_name_commentedカラムの生成\n",
    "def is_included_after(filepath,method_name):\n",
    "  liz = lizard.analyze_file(\"./java_files/\"+filepath)\n",
    "  for i,liz_func in enumerate(liz.function_list):\n",
    "    if liz_func.__dict__[\"name\"] == method_name:\n",
    "      return True\n",
    "  return False\n",
    "\n",
    "comments_df[\"is_included_after\"] = comments_df.loc[:,[\"filepath_after\",\"method_name_commented\"]].apply(lambda x:is_included_after(x[0],x[1]), axis=1)\n",
    "comments_df = comments_df[comments_df[\"is_included_after\"]]"
   ]
  },
  {
   "cell_type": "code",
   "execution_count": 93,
   "metadata": {},
   "outputs": [],
   "source": [
    "# methodslist_before != method_list_afterかどうかをis_revised_method_commentに反映\n",
    "# ファイルをlistで保存\n",
    "def save_list_as_file(file_path,li):\n",
    "  with open(file_path,\"w\", encoding=\"utf-8\") as f:\n",
    "    f.write(\"\".join(li))\n",
    "\n",
    "\n",
    "def is_included_after(filepath_before,filepath_after,method_name):\n",
    "  liz_before = lizard.analyze_file(\"./java_files/\"+filepath_before)\n",
    "  file_before_li = read_file_as_list(\"./java_files/\"+filepath_before)\n",
    "  liz_after = lizard.analyze_file(\"./java_files/\"+filepath_after)\n",
    "  file_after_li = read_file_as_list(\"./java_files/\"+filepath_after)\n",
    "  before_s = \"\"\n",
    "  after_s = \"\"\n",
    "  for i,liz_func in enumerate(liz_before.function_list):\n",
    "    if liz_func.__dict__[\"name\"] == method_name:\n",
    "      start_line = liz_func.__dict__[\"start_line\"]\n",
    "      end_line = liz_func.__dict__[\"end_line\"]\n",
    "      methods = file_before_li[start_line-1:end_line]\n",
    "      before_s = \"\".join(methods)\n",
    "      save_list_as_file(\"./methods/\"+filepath_before,methods)\n",
    "      break\n",
    "  for i,liz_func in enumerate(liz_after.function_list):\n",
    "    if liz_func.__dict__[\"name\"] == method_name:\n",
    "      start_line = liz_func.__dict__[\"start_line\"]\n",
    "      end_line = liz_func.__dict__[\"end_line\"]\n",
    "      methods = file_after_li[start_line-1:end_line]\n",
    "      after_s = \"\".join(methods)\n",
    "      save_list_as_file(\"./methods/\"+filepath_after,methods)\n",
    "      break\n",
    "  if before_s ==after_s:\n",
    "    return False\n",
    "  return True\n",
    "shutil.rmtree(\"./methods/\")\n",
    "os.mkdir(\"./methods/\")\n",
    "comments_df[\"is_revised_method_comment\"] = comments_df.loc[:,[\"filepath_before\",\"filepath_after\",\"method_name_commented\"]].apply(lambda x:is_included_after(x[0],x[1],x[2]), axis=1)\n",
    "comments_df = comments_df[comments_df[\"is_revised_method_comment\"]]"
   ]
  },
  {
   "cell_type": "code",
   "execution_count": 92,
   "metadata": {},
   "outputs": [
    {
     "name": "stdout",
     "output_type": "stream",
     "text": [
      "<class 'pandas.core.frame.DataFrame'>\n",
      "Int64Index: 36 entries, 0 to 73\n",
      "Data columns (total 16 columns):\n",
      " #   Column                     Non-Null Count  Dtype  \n",
      "---  ------                     --------------  -----  \n",
      " 0   comments_id                36 non-null     object \n",
      " 1   line                       36 non-null     float64\n",
      " 2   message                    36 non-null     object \n",
      " 3   range.start_line           33 non-null     float64\n",
      " 4   range.end_line             33 non-null     float64\n",
      " 5   content                    36 non-null     object \n",
      " 6   changes_id                 36 non-null     object \n",
      " 7   revisions_id               36 non-null     object \n",
      " 8   path                       36 non-null     object \n",
      " 9   filepath_before            36 non-null     object \n",
      " 10  filepath_after             36 non-null     object \n",
      " 11  methods_before_count       36 non-null     int64  \n",
      " 12  methods_after_count        36 non-null     int64  \n",
      " 13  method_name_commented      36 non-null     object \n",
      " 14  is_included_after          36 non-null     bool   \n",
      " 15  is_revised_method_comment  36 non-null     bool   \n",
      "dtypes: bool(2), float64(3), int64(2), object(9)\n",
      "memory usage: 4.3+ KB\n"
     ]
    }
   ],
   "source": [
    "comments_df.info()"
   ]
  },
  {
   "cell_type": "code",
   "execution_count": 74,
   "metadata": {},
   "outputs": [
    {
     "name": "stdout",
     "output_type": "stream",
     "text": [
      "{'filename': 'test.java', 'nloc': 1, 'function_list': [<lizard.FunctionInfo object at 0x1b9031eb0>], 'token_count': 34}\n",
      "VAR_1\n"
     ]
    }
   ],
   "source": [
    "# lizardのテスト\n",
    "i = lizard.analyze_file(\"test.java\")\n",
    "print(i.__dict__)\n",
    "for func in i.function_list:\n",
    "  print( func.__dict__[\"name\"])"
   ]
  },
  {
   "cell_type": "code",
   "execution_count": 15,
   "metadata": {},
   "outputs": [
    {
     "ename": "FileNotFoundError",
     "evalue": "[Errno 2] No such file or directory: '../1.scraping/scraped_files/chromium/diff.pkl'",
     "output_type": "error",
     "traceback": [
      "\u001b[0;31m---------------------------------------------------------------------------\u001b[0m",
      "\u001b[0;31mFileNotFoundError\u001b[0m                         Traceback (most recent call last)",
      "\u001b[0;32m/var/folders/v9/7w9r94gd5qj0kq2g_hr6s4500000gn/T/ipykernel_65485/1327201524.py\u001b[0m in \u001b[0;36m<module>\u001b[0;34m\u001b[0m\n\u001b[0;32m----> 1\u001b[0;31m \u001b[0mdiff_df\u001b[0m \u001b[0;34m=\u001b[0m \u001b[0mpd\u001b[0m\u001b[0;34m.\u001b[0m\u001b[0mread_pickle\u001b[0m\u001b[0;34m(\u001b[0m\u001b[0;34m\"../1.scraping/scraped_files/chromium/diff.pkl\"\u001b[0m\u001b[0;34m)\u001b[0m\u001b[0;34m\u001b[0m\u001b[0;34m\u001b[0m\u001b[0m\n\u001b[0m\u001b[1;32m      2\u001b[0m \u001b[0mdiff_df\u001b[0m\u001b[0;34m.\u001b[0m\u001b[0minfo\u001b[0m\u001b[0;34m(\u001b[0m\u001b[0;34m)\u001b[0m\u001b[0;34m\u001b[0m\u001b[0;34m\u001b[0m\u001b[0m\n",
      "\u001b[0;32m~/Desktop/research-naist/venv/lib/python3.8/site-packages/pandas/io/pickle.py\u001b[0m in \u001b[0;36mread_pickle\u001b[0;34m(filepath_or_buffer, compression, storage_options)\u001b[0m\n\u001b[1;32m    194\u001b[0m     \"\"\"\n\u001b[1;32m    195\u001b[0m     \u001b[0mexcs_to_catch\u001b[0m \u001b[0;34m=\u001b[0m \u001b[0;34m(\u001b[0m\u001b[0mAttributeError\u001b[0m\u001b[0;34m,\u001b[0m \u001b[0mImportError\u001b[0m\u001b[0;34m,\u001b[0m \u001b[0mModuleNotFoundError\u001b[0m\u001b[0;34m,\u001b[0m \u001b[0mTypeError\u001b[0m\u001b[0;34m)\u001b[0m\u001b[0;34m\u001b[0m\u001b[0;34m\u001b[0m\u001b[0m\n\u001b[0;32m--> 196\u001b[0;31m     with get_handle(\n\u001b[0m\u001b[1;32m    197\u001b[0m         \u001b[0mfilepath_or_buffer\u001b[0m\u001b[0;34m,\u001b[0m\u001b[0;34m\u001b[0m\u001b[0;34m\u001b[0m\u001b[0m\n\u001b[1;32m    198\u001b[0m         \u001b[0;34m\"rb\"\u001b[0m\u001b[0;34m,\u001b[0m\u001b[0;34m\u001b[0m\u001b[0;34m\u001b[0m\u001b[0m\n",
      "\u001b[0;32m~/Desktop/research-naist/venv/lib/python3.8/site-packages/pandas/io/common.py\u001b[0m in \u001b[0;36mget_handle\u001b[0;34m(path_or_buf, mode, encoding, compression, memory_map, is_text, errors, storage_options)\u001b[0m\n\u001b[1;32m    709\u001b[0m         \u001b[0;32melse\u001b[0m\u001b[0;34m:\u001b[0m\u001b[0;34m\u001b[0m\u001b[0;34m\u001b[0m\u001b[0m\n\u001b[1;32m    710\u001b[0m             \u001b[0;31m# Binary mode\u001b[0m\u001b[0;34m\u001b[0m\u001b[0;34m\u001b[0m\u001b[0;34m\u001b[0m\u001b[0m\n\u001b[0;32m--> 711\u001b[0;31m             \u001b[0mhandle\u001b[0m \u001b[0;34m=\u001b[0m \u001b[0mopen\u001b[0m\u001b[0;34m(\u001b[0m\u001b[0mhandle\u001b[0m\u001b[0;34m,\u001b[0m \u001b[0mioargs\u001b[0m\u001b[0;34m.\u001b[0m\u001b[0mmode\u001b[0m\u001b[0;34m)\u001b[0m\u001b[0;34m\u001b[0m\u001b[0;34m\u001b[0m\u001b[0m\n\u001b[0m\u001b[1;32m    712\u001b[0m         \u001b[0mhandles\u001b[0m\u001b[0;34m.\u001b[0m\u001b[0mappend\u001b[0m\u001b[0;34m(\u001b[0m\u001b[0mhandle\u001b[0m\u001b[0;34m)\u001b[0m\u001b[0;34m\u001b[0m\u001b[0;34m\u001b[0m\u001b[0m\n\u001b[1;32m    713\u001b[0m \u001b[0;34m\u001b[0m\u001b[0m\n",
      "\u001b[0;31mFileNotFoundError\u001b[0m: [Errno 2] No such file or directory: '../1.scraping/scraped_files/chromium/diff.pkl'"
     ]
    }
   ],
   "source": [
    "\n",
    "diff_df = pd.read_pickle(\"../1.scraping/scraped_files/chromium/diff.pkl\")\n",
    "diff_df.info()"
   ]
  },
  {
   "cell_type": "code",
   "execution_count": 12,
   "metadata": {},
   "outputs": [
    {
     "name": "stdout",
     "output_type": "stream",
     "text": [
      "<class 'pandas.core.frame.DataFrame'>\n",
      "RangeIndex: 30802 entries, 0 to 30801\n",
      "Data columns (total 26 columns):\n",
      " #   Column                 Non-Null Count  Dtype  \n",
      "---  ------                 --------------  -----  \n",
      " 0   index                  30802 non-null  int64  \n",
      " 1   change_message_id      30802 non-null  object \n",
      " 2   unresolved             30802 non-null  bool   \n",
      " 3   patch_set              30802 non-null  int64  \n",
      " 4   id                     30802 non-null  object \n",
      " 5   updated                30802 non-null  object \n",
      " 6   message                30802 non-null  object \n",
      " 7   commit_id              30802 non-null  object \n",
      " 8   author._account_id     30802 non-null  int64  \n",
      " 9   author.name            30802 non-null  object \n",
      " 10  author.email           30794 non-null  object \n",
      " 11  author.avatars         30802 non-null  object \n",
      " 12  author.status          3705 non-null   object \n",
      " 13  in_reply_to            16016 non-null  object \n",
      " 14  change_id              30802 non-null  object \n",
      " 15  path                   30802 non-null  object \n",
      " 16  line                   30802 non-null  float64\n",
      " 17  range.start_line       18884 non-null  float64\n",
      " 18  range.start_character  18884 non-null  float64\n",
      " 19  range.end_line         18884 non-null  float64\n",
      " 20  range.end_character    18884 non-null  float64\n",
      " 21  side                   432 non-null    object \n",
      " 22  author.username        190 non-null    object \n",
      " 23  author.display_name    828 non-null    object \n",
      " 24  author.inactive        213 non-null    object \n",
      " 25  tag                    771 non-null    object \n",
      "dtypes: bool(1), float64(5), int64(3), object(17)\n",
      "memory usage: 5.9+ MB\n"
     ]
    }
   ],
   "source": [
    "comments_df = pd.read_pickle(\"../1.crawling/scraped_files/chromium/comments.pkl\")\n",
    "comments_df.info()"
   ]
  },
  {
   "cell_type": "code",
   "execution_count": 3,
   "metadata": {},
   "outputs": [
    {
     "name": "stdout",
     "output_type": "stream",
     "text": [
      "<class 'pandas.core.frame.DataFrame'>\n",
      "RangeIndex: 28750 entries, 0 to 28749\n",
      "Data columns (total 17 columns):\n",
      " #   Column               Non-Null Count  Dtype  \n",
      "---  ------               --------------  -----  \n",
      " 0   change_type          28750 non-null  object \n",
      " 1   content              28750 non-null  object \n",
      " 2   meta_a.name          28229 non-null  object \n",
      " 3   meta_a.content_type  28229 non-null  object \n",
      " 4   meta_a.lines         28229 non-null  float64\n",
      " 5   meta_a.web_links     26691 non-null  object \n",
      " 6   meta_b.name          28741 non-null  object \n",
      " 7   meta_b.content_type  28741 non-null  object \n",
      " 8   meta_b.lines         28741 non-null  float64\n",
      " 9   meta_b.web_links     27203 non-null  object \n",
      " 10  changes_id           28750 non-null  object \n",
      " 11  revisions_id         28750 non-null  object \n",
      " 12  path                 28750 non-null  object \n",
      " 13  patch_set_a          28750 non-null  int64  \n",
      " 14  patch_set_b          28750 non-null  int64  \n",
      " 15  comments_id          28750 non-null  object \n",
      " 16  diff_header          21195 non-null  object \n",
      "dtypes: float64(2), int64(2), object(13)\n",
      "memory usage: 3.7+ MB\n"
     ]
    }
   ],
   "source": [
    "diff_df.info()"
   ]
  },
  {
   "cell_type": "code",
   "execution_count": null,
   "metadata": {},
   "outputs": [],
   "source": [
    "len(diff_df.content[1])"
   ]
  },
  {
   "cell_type": "code",
   "execution_count": null,
   "metadata": {},
   "outputs": [],
   "source": [
    "diff_df[\"has_diff\"] = diff_df[\"content\"].apply(lambda x: True if len(x) != 1 else False)"
   ]
  },
  {
   "cell_type": "code",
   "execution_count": null,
   "metadata": {},
   "outputs": [],
   "source": [
    "diff_df[\"has_diff\"].value_counts()"
   ]
  },
  {
   "cell_type": "code",
   "execution_count": null,
   "metadata": {},
   "outputs": [],
   "source": [
    "diff_df_has_diff = diff_df[diff_df[\"has_diff\"]]"
   ]
  },
  {
   "cell_type": "code",
   "execution_count": null,
   "metadata": {},
   "outputs": [],
   "source": [
    "diff_df_has_diff[\"is_java\"] = diff_df_has_diff[\"meta_a.name\"].str.contains(\".java\")"
   ]
  },
  {
   "cell_type": "code",
   "execution_count": null,
   "metadata": {},
   "outputs": [],
   "source": [
    "diff_df_has_diff[\"is_java\"].value_counts()"
   ]
  },
  {
   "cell_type": "code",
   "execution_count": null,
   "metadata": {},
   "outputs": [],
   "source": [
    "def separate_before_after(contents,comment_id):\n",
    "  before = \"\"\n",
    "  after = \"\"\n",
    "  for content in contents:\n",
    "    if \"a\" in content:\n",
    "      after += content[\"a\"][0] + \"\\n\"\n",
    "    elif \"b\" in content:\n",
    "      before += content[\"b\"][0]+ \"\\n\"\n",
    "    elif \"ab\" in content:\n",
    "      after += content[\"ab\"][0]+ \"\\n\"\n",
    "      before += content[\"ab\"][0]+ \"\\n\"\n",
    "  with open(comment_id+\"_before\",\"w\", encoding=\"utf-8\", newline=\"\\n\") as f:\n",
    "    f.write(before)\n",
    "  with open(comment_id+\"_after\",\"w\", encoding=\"utf-8\", newline=\"\\n\") as f:\n",
    "    f.write(after)\n",
    "separate_before_after(diff_df_has_diff.iloc[0][\"content\"],diff_df_has_diff.iloc[0][\"comments_id\"])"
   ]
  },
  {
   "cell_type": "code",
   "execution_count": null,
   "metadata": {},
   "outputs": [],
   "source": [
    "diff_df_has_diff.iloc[0][\"content\"]"
   ]
  },
  {
   "cell_type": "code",
   "execution_count": null,
   "metadata": {},
   "outputs": [],
   "source": [
    "df = pd.read_pickle(\"../1.scraping/scraped_files/opendev/diff.pkl\")"
   ]
  },
  {
   "cell_type": "code",
   "execution_count": null,
   "metadata": {},
   "outputs": [],
   "source": [
    "df[\"meta_a.name\"].unique()"
   ]
  },
  {
   "cell_type": "code",
   "execution_count": null,
   "metadata": {},
   "outputs": [],
   "source": [
    "df[\"is_java\"] = df[\"meta_a.name\"].str.contains(\".java\")"
   ]
  },
  {
   "cell_type": "code",
   "execution_count": null,
   "metadata": {},
   "outputs": [],
   "source": [
    "df[\"is_java\"].value_counts()"
   ]
  },
  {
   "cell_type": "code",
   "execution_count": null,
   "metadata": {},
   "outputs": [],
   "source": [
    "diff_df = pd.read_pickle(\"../1.scraping/scraped_files/chromium/diff.pkl\")\n"
   ]
  },
  {
   "cell_type": "markdown",
   "metadata": {},
   "source": []
  },
  {
   "cell_type": "code",
   "execution_count": null,
   "metadata": {},
   "outputs": [],
   "source": [
    "diff_df[\"has_diff\"] = diff_df[\"content\"].apply(lambda x: len(x) != 1)\n",
    "diff_df[\"is_java\"]  = diff_df[\"meta_a.name\"].str.contains(\".java\")\n",
    "df_temp = diff_df[diff_df[\"is_java\"] & diff_df[\"has_diff\"] ].loc[:,[\"comments_id\",\"content\"]].values"
   ]
  },
  {
   "cell_type": "code",
   "execution_count": null,
   "metadata": {},
   "outputs": [],
   "source": [
    "def separate_before_after(comment_id,contents):\n",
    "  before = list()\n",
    "  after = list()\n",
    "  for content in contents:\n",
    "    if \"a\" in content:\n",
    "      after.extend(content[\"a\"])\n",
    "    elif \"b\" in content:\n",
    "      before.extend(content[\"b\"])\n",
    "    elif \"ab\" in content:\n",
    "      after.extend(content[\"ab\"])\n",
    "      before.extend(content[\"ab\"])\n",
    "  with open(\"./files/\"+comment_id+\"_before.java\",\"w\", encoding=\"utf-8\") as f:\n",
    "    f.write(\"\\n\".join(before))\n",
    "  with open(\"./files/\"+comment_id+\"_after.java\",\"w\", encoding=\"utf-8\") as f:\n",
    "    f.write(\"\\n\".join(after))\n"
   ]
  },
  {
   "cell_type": "code",
   "execution_count": null,
   "metadata": {},
   "outputs": [],
   "source": [
    "[*map(lambda x: separate_before_after(x[0],x[1]), df_temp )]"
   ]
  },
  {
   "cell_type": "code",
   "execution_count": null,
   "metadata": {},
   "outputs": [],
   "source": [
    "df_temp = diff_df[diff_df[\"is_java\"] & diff_df[\"has_diff\"] ]"
   ]
  },
  {
   "cell_type": "code",
   "execution_count": null,
   "metadata": {},
   "outputs": [],
   "source": [
    "df_temp.info()"
   ]
  },
  {
   "cell_type": "code",
   "execution_count": null,
   "metadata": {},
   "outputs": [],
   "source": [
    "comments_df = pd.read_pickle(\"../1.scraping/scraped_files/chromium/comments.pkl\")\n",
    "comments_df.info()"
   ]
  },
  {
   "cell_type": "code",
   "execution_count": null,
   "metadata": {},
   "outputs": [],
   "source": [
    "# merge\n",
    "comments_df = comments_df.rename(columns={'id': 'comments_id'})\n",
    "merge_df = pd.merge(comments_df, df_temp)"
   ]
  },
  {
   "cell_type": "code",
   "execution_count": null,
   "metadata": {},
   "outputs": [],
   "source": [
    "merge_df= merge_df.loc[:,[\"comments_id\",\"line\",\"message\",\"range.start_line\",\"range.end_line\"]]"
   ]
  },
  {
   "cell_type": "code",
   "execution_count": null,
   "metadata": {},
   "outputs": [],
   "source": [
    "merge_df[\"filepath_before\"] = merge_df[\"comments_id\"].apply(lambda x: x+\"_before.java\")\n",
    "merge_df[\"filepath_after\"] = merge_df[\"comments_id\"].apply(lambda x: x+\"_after.java\")\n",
    "merge_df[\"is_gerrit\"] = True\n",
    "merge_df[\"repository_name\"] = \"chromium\"\n",
    "\n",
    "\n"
   ]
  },
  {
   "cell_type": "code",
   "execution_count": null,
   "metadata": {},
   "outputs": [],
   "source": [
    "df = pd.read_pickle(\"./review_df.pkl\")"
   ]
  },
  {
   "cell_type": "code",
   "execution_count": null,
   "metadata": {},
   "outputs": [],
   "source": [
    "df"
   ]
  },
  {
   "cell_type": "markdown",
   "metadata": {},
   "source": []
  }
 ],
 "metadata": {
  "interpreter": {
   "hash": "8b52450082a8de8a5b45e8be08c34f8d57cccdae220137bb0eba7ea176d16052"
  },
  "kernelspec": {
   "display_name": "Python 3.8.2 64-bit ('venv': venv)",
   "name": "python3"
  },
  "language_info": {
   "codemirror_mode": {
    "name": "ipython",
    "version": 3
   },
   "file_extension": ".py",
   "mimetype": "text/x-python",
   "name": "python",
   "nbconvert_exporter": "python",
   "pygments_lexer": "ipython3",
   "version": "3.8.2"
  },
  "orig_nbformat": 4
 },
 "nbformat": 4,
 "nbformat_minor": 2
}
