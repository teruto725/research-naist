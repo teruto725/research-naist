{
 "cells": [
  {
   "cell_type": "code",
   "execution_count": 5,
   "metadata": {},
   "outputs": [],
   "source": [
    "import lizard\n",
    "import pandas as pd"
   ]
  },
  {
   "cell_type": "code",
   "execution_count": null,
   "metadata": {},
   "outputs": [],
   "source": [
    "comments_df = pd.read_pickle(\"../1.crawling/scraped_files/chromium/comments.pkl\")\n",
    "print(comments_df.info())\n",
    "diff_df = pd.read_pickle(\"../1.crawling/scraped_files/chromium/diff.pkl\")\n",
    "print(diff_df.info())"
   ]
  },
  {
   "cell_type": "code",
   "execution_count": null,
   "metadata": {},
   "outputs": [],
   "source": [
    "# lizardのテスト\n",
    "i = lizard.analyze_file(\"test.java\")\n",
    "print(i.__dict__)\n",
    "for func in i.function_list:\n",
    "  print( func.__dict__[\"name\"])"
   ]
  },
  {
   "cell_type": "code",
   "execution_count": 2,
   "metadata": {},
   "outputs": [],
   "source": [
    "\n",
    "diff_df = pd.read_pickle(\"../1.scraping/scraped_files/chromium/diff.pkl\")\n",
    "diff_df.info()"
   ]
  },
  {
   "cell_type": "code",
   "execution_count": 4,
   "metadata": {},
   "outputs": [
    {
     "name": "stdout",
     "output_type": "stream",
     "text": [
      "<class 'pandas.core.frame.DataFrame'>\n",
      "RangeIndex: 30802 entries, 0 to 30801\n",
      "Data columns (total 26 columns):\n",
      " #   Column                 Non-Null Count  Dtype  \n",
      "---  ------                 --------------  -----  \n",
      " 0   index                  30802 non-null  int64  \n",
      " 1   change_message_id      30802 non-null  object \n",
      " 2   unresolved             30802 non-null  bool   \n",
      " 3   patch_set              30802 non-null  int64  \n",
      " 4   id                     30802 non-null  object \n",
      " 5   updated                30802 non-null  object \n",
      " 6   message                30802 non-null  object \n",
      " 7   commit_id              30802 non-null  object \n",
      " 8   author._account_id     30802 non-null  int64  \n",
      " 9   author.name            30802 non-null  object \n",
      " 10  author.email           30794 non-null  object \n",
      " 11  author.avatars         30802 non-null  object \n",
      " 12  author.status          3705 non-null   object \n",
      " 13  in_reply_to            16016 non-null  object \n",
      " 14  change_id              30802 non-null  object \n",
      " 15  path                   30802 non-null  object \n",
      " 16  line                   30802 non-null  float64\n",
      " 17  range.start_line       18884 non-null  float64\n",
      " 18  range.start_character  18884 non-null  float64\n",
      " 19  range.end_line         18884 non-null  float64\n",
      " 20  range.end_character    18884 non-null  float64\n",
      " 21  side                   432 non-null    object \n",
      " 22  author.username        190 non-null    object \n",
      " 23  author.display_name    828 non-null    object \n",
      " 24  author.inactive        213 non-null    object \n",
      " 25  tag                    771 non-null    object \n",
      "dtypes: bool(1), float64(5), int64(3), object(17)\n",
      "memory usage: 5.9+ MB\n"
     ]
    }
   ],
   "source": [
    "diff_df = pd.read_pickle(\"../1.scraping/scraped_files/chromium/comments.pkl\")\n",
    "diff_df.info()"
   ]
  },
  {
   "cell_type": "code",
   "execution_count": 3,
   "metadata": {},
   "outputs": [
    {
     "name": "stdout",
     "output_type": "stream",
     "text": [
      "<class 'pandas.core.frame.DataFrame'>\n",
      "RangeIndex: 28750 entries, 0 to 28749\n",
      "Data columns (total 17 columns):\n",
      " #   Column               Non-Null Count  Dtype  \n",
      "---  ------               --------------  -----  \n",
      " 0   change_type          28750 non-null  object \n",
      " 1   content              28750 non-null  object \n",
      " 2   meta_a.name          28229 non-null  object \n",
      " 3   meta_a.content_type  28229 non-null  object \n",
      " 4   meta_a.lines         28229 non-null  float64\n",
      " 5   meta_a.web_links     26691 non-null  object \n",
      " 6   meta_b.name          28741 non-null  object \n",
      " 7   meta_b.content_type  28741 non-null  object \n",
      " 8   meta_b.lines         28741 non-null  float64\n",
      " 9   meta_b.web_links     27203 non-null  object \n",
      " 10  changes_id           28750 non-null  object \n",
      " 11  revisions_id         28750 non-null  object \n",
      " 12  path                 28750 non-null  object \n",
      " 13  patch_set_a          28750 non-null  int64  \n",
      " 14  patch_set_b          28750 non-null  int64  \n",
      " 15  comments_id          28750 non-null  object \n",
      " 16  diff_header          21195 non-null  object \n",
      "dtypes: float64(2), int64(2), object(13)\n",
      "memory usage: 3.7+ MB\n"
     ]
    }
   ],
   "source": [
    "diff_df.info()"
   ]
  },
  {
   "cell_type": "code",
   "execution_count": null,
   "metadata": {},
   "outputs": [],
   "source": [
    "len(diff_df.content[1])"
   ]
  },
  {
   "cell_type": "code",
   "execution_count": null,
   "metadata": {},
   "outputs": [],
   "source": [
    "diff_df[\"has_diff\"] = diff_df[\"content\"].apply(lambda x: True if len(x) != 1 else False)"
   ]
  },
  {
   "cell_type": "code",
   "execution_count": null,
   "metadata": {},
   "outputs": [],
   "source": [
    "diff_df[\"has_diff\"].value_counts()"
   ]
  },
  {
   "cell_type": "code",
   "execution_count": null,
   "metadata": {},
   "outputs": [],
   "source": [
    "diff_df_has_diff = diff_df[diff_df[\"has_diff\"]]"
   ]
  },
  {
   "cell_type": "code",
   "execution_count": null,
   "metadata": {},
   "outputs": [],
   "source": [
    "diff_df_has_diff[\"is_java\"] = diff_df_has_diff[\"meta_a.name\"].str.contains(\".java\")"
   ]
  },
  {
   "cell_type": "code",
   "execution_count": null,
   "metadata": {},
   "outputs": [],
   "source": [
    "diff_df_has_diff[\"is_java\"].value_counts()"
   ]
  },
  {
   "cell_type": "code",
   "execution_count": null,
   "metadata": {},
   "outputs": [],
   "source": [
    "def separate_before_after(contents,comment_id):\n",
    "  before = \"\"\n",
    "  after = \"\"\n",
    "  for content in contents:\n",
    "    if \"a\" in content:\n",
    "      after += content[\"a\"][0] + \"\\n\"\n",
    "    elif \"b\" in content:\n",
    "      before += content[\"b\"][0]+ \"\\n\"\n",
    "    elif \"ab\" in content:\n",
    "      after += content[\"ab\"][0]+ \"\\n\"\n",
    "      before += content[\"ab\"][0]+ \"\\n\"\n",
    "  with open(comment_id+\"_before\",\"w\", encoding=\"utf-8\", newline=\"\\n\") as f:\n",
    "    f.write(before)\n",
    "  with open(comment_id+\"_after\",\"w\", encoding=\"utf-8\", newline=\"\\n\") as f:\n",
    "    f.write(after)\n",
    "separate_before_after(diff_df_has_diff.iloc[0][\"content\"],diff_df_has_diff.iloc[0][\"comments_id\"])"
   ]
  },
  {
   "cell_type": "code",
   "execution_count": null,
   "metadata": {},
   "outputs": [],
   "source": [
    "diff_df_has_diff.iloc[0][\"content\"]"
   ]
  },
  {
   "cell_type": "code",
   "execution_count": null,
   "metadata": {},
   "outputs": [],
   "source": [
    "df = pd.read_pickle(\"../1.scraping/scraped_files/opendev/diff.pkl\")"
   ]
  },
  {
   "cell_type": "code",
   "execution_count": null,
   "metadata": {},
   "outputs": [],
   "source": [
    "df[\"meta_a.name\"].unique()"
   ]
  },
  {
   "cell_type": "code",
   "execution_count": null,
   "metadata": {},
   "outputs": [],
   "source": [
    "df[\"is_java\"] = df[\"meta_a.name\"].str.contains(\".java\")"
   ]
  },
  {
   "cell_type": "code",
   "execution_count": null,
   "metadata": {},
   "outputs": [],
   "source": [
    "df[\"is_java\"].value_counts()"
   ]
  },
  {
   "cell_type": "code",
   "execution_count": null,
   "metadata": {},
   "outputs": [],
   "source": [
    "diff_df = pd.read_pickle(\"../1.scraping/scraped_files/chromium/diff.pkl\")\n"
   ]
  },
  {
   "cell_type": "markdown",
   "metadata": {},
   "source": []
  },
  {
   "cell_type": "code",
   "execution_count": null,
   "metadata": {},
   "outputs": [],
   "source": [
    "diff_df[\"has_diff\"] = diff_df[\"content\"].apply(lambda x: len(x) != 1)\n",
    "diff_df[\"is_java\"]  = diff_df[\"meta_a.name\"].str.contains(\".java\")\n",
    "df_temp = diff_df[diff_df[\"is_java\"] & diff_df[\"has_diff\"] ].loc[:,[\"comments_id\",\"content\"]].values"
   ]
  },
  {
   "cell_type": "code",
   "execution_count": null,
   "metadata": {},
   "outputs": [],
   "source": [
    "def separate_before_after(comment_id,contents):\n",
    "  before = list()\n",
    "  after = list()\n",
    "  for content in contents:\n",
    "    if \"a\" in content:\n",
    "      after.extend(content[\"a\"])\n",
    "    elif \"b\" in content:\n",
    "      before.extend(content[\"b\"])\n",
    "    elif \"ab\" in content:\n",
    "      after.extend(content[\"ab\"])\n",
    "      before.extend(content[\"ab\"])\n",
    "  with open(\"./files/\"+comment_id+\"_before.java\",\"w\", encoding=\"utf-8\") as f:\n",
    "    f.write(\"\\n\".join(before))\n",
    "  with open(\"./files/\"+comment_id+\"_after.java\",\"w\", encoding=\"utf-8\") as f:\n",
    "    f.write(\"\\n\".join(after))\n"
   ]
  },
  {
   "cell_type": "code",
   "execution_count": null,
   "metadata": {},
   "outputs": [],
   "source": [
    "[*map(lambda x: separate_before_after(x[0],x[1]), df_temp )]"
   ]
  },
  {
   "cell_type": "code",
   "execution_count": null,
   "metadata": {},
   "outputs": [],
   "source": [
    "df_temp = diff_df[diff_df[\"is_java\"] & diff_df[\"has_diff\"] ]"
   ]
  },
  {
   "cell_type": "code",
   "execution_count": null,
   "metadata": {},
   "outputs": [],
   "source": [
    "df_temp.info()"
   ]
  },
  {
   "cell_type": "code",
   "execution_count": null,
   "metadata": {},
   "outputs": [],
   "source": [
    "comments_df = pd.read_pickle(\"../1.scraping/scraped_files/chromium/comments.pkl\")\n",
    "comments_df.info()"
   ]
  },
  {
   "cell_type": "code",
   "execution_count": null,
   "metadata": {},
   "outputs": [],
   "source": [
    "# merge\n",
    "comments_df = comments_df.rename(columns={'id': 'comments_id'})\n",
    "merge_df = pd.merge(comments_df, df_temp)"
   ]
  },
  {
   "cell_type": "code",
   "execution_count": null,
   "metadata": {},
   "outputs": [],
   "source": [
    "merge_df= merge_df.loc[:,[\"comments_id\",\"line\",\"message\",\"range.start_line\",\"range.end_line\"]]"
   ]
  },
  {
   "cell_type": "code",
   "execution_count": null,
   "metadata": {},
   "outputs": [],
   "source": [
    "merge_df[\"filepath_before\"] = merge_df[\"comments_id\"].apply(lambda x: x+\"_before.java\")\n",
    "merge_df[\"filepath_after\"] = merge_df[\"comments_id\"].apply(lambda x: x+\"_after.java\")\n",
    "merge_df[\"is_gerrit\"] = True\n",
    "merge_df[\"repository_name\"] = \"chromium\"\n",
    "\n",
    "\n"
   ]
  },
  {
   "cell_type": "code",
   "execution_count": null,
   "metadata": {},
   "outputs": [],
   "source": [
    "df = pd.read_pickle(\"./review_df.pkl\")"
   ]
  },
  {
   "cell_type": "code",
   "execution_count": null,
   "metadata": {},
   "outputs": [],
   "source": [
    "df"
   ]
  },
  {
   "cell_type": "markdown",
   "metadata": {},
   "source": []
  }
 ],
 "metadata": {
  "interpreter": {
   "hash": "8b52450082a8de8a5b45e8be08c34f8d57cccdae220137bb0eba7ea176d16052"
  },
  "kernelspec": {
   "display_name": "Python 3.8.2 64-bit ('venv': venv)",
   "name": "python3"
  },
  "language_info": {
   "codemirror_mode": {
    "name": "ipython",
    "version": 3
   },
   "file_extension": ".py",
   "mimetype": "text/x-python",
   "name": "python",
   "nbconvert_exporter": "python",
   "pygments_lexer": "ipython3",
   "version": "3.8.2"
  },
  "orig_nbformat": 4
 },
 "nbformat": 4,
 "nbformat_minor": 2
}
