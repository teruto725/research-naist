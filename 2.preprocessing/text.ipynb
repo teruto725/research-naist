{
 "cells": [
  {
   "cell_type": "code",
   "execution_count": null,
   "metadata": {},
   "outputs": [],
   "source": [
    "import lizard\n",
    "import pandas as pd\n",
    "import matplotlib"
   ]
  },
  {
   "cell_type": "code",
   "execution_count": null,
   "metadata": {},
   "outputs": [],
   "source": []
  },
  {
   "cell_type": "code",
   "execution_count": null,
   "metadata": {},
   "outputs": [],
   "source": [
    "# lizardのテスト\n",
    "i = lizard.analyze_file(\"test.java\")\n",
    "print(i.__dict__)\n",
    "for func in i.function_list:\n",
    "  print( func.__dict__[\"name\"])"
   ]
  },
  {
   "cell_type": "code",
   "execution_count": null,
   "metadata": {},
   "outputs": [],
   "source": [
    "\n",
    "diff_df = pd.read_pickle(\"../1.scraping/scraped_files/chromium/diff.pkl\")"
   ]
  },
  {
   "cell_type": "code",
   "execution_count": null,
   "metadata": {},
   "outputs": [],
   "source": [
    "diff_df.info()"
   ]
  },
  {
   "cell_type": "code",
   "execution_count": null,
   "metadata": {},
   "outputs": [],
   "source": [
    "len(diff_df.content[1])"
   ]
  },
  {
   "cell_type": "code",
   "execution_count": null,
   "metadata": {},
   "outputs": [],
   "source": [
    "diff_df[\"has_diff\"] = diff_df[\"content\"].apply(lambda x: True if len(x) != 1 else False)"
   ]
  },
  {
   "cell_type": "code",
   "execution_count": null,
   "metadata": {},
   "outputs": [],
   "source": [
    "diff_df[\"has_diff\"].value_counts()"
   ]
  },
  {
   "cell_type": "code",
   "execution_count": null,
   "metadata": {},
   "outputs": [],
   "source": [
    "diff_df_has_diff = diff_df[diff_df[\"has_diff\"]]"
   ]
  },
  {
   "cell_type": "code",
   "execution_count": null,
   "metadata": {},
   "outputs": [],
   "source": [
    "diff_df_has_diff[\"is_java\"] = diff_df_has_diff[\"meta_a.name\"].str.contains(\".java\")"
   ]
  },
  {
   "cell_type": "code",
   "execution_count": null,
   "metadata": {},
   "outputs": [],
   "source": [
    "diff_df_has_diff[\"is_java\"].value_counts()"
   ]
  },
  {
   "cell_type": "code",
   "execution_count": null,
   "metadata": {},
   "outputs": [],
   "source": [
    "def separate_before_after(contents,comment_id):\n",
    "  before = \"\"\n",
    "  after = \"\"\n",
    "  for content in contents:\n",
    "    if \"a\" in content:\n",
    "      after += content[\"a\"][0] + \"\\n\"\n",
    "    elif \"b\" in content:\n",
    "      before += content[\"b\"][0]+ \"\\n\"\n",
    "    elif \"ab\" in content:\n",
    "      after += content[\"ab\"][0]+ \"\\n\"\n",
    "      before += content[\"ab\"][0]+ \"\\n\"\n",
    "  with open(comment_id+\"_before\",\"w\", encoding=\"utf-8\", newline=\"\\n\") as f:\n",
    "    f.write(before)\n",
    "  with open(comment_id+\"_after\",\"w\", encoding=\"utf-8\", newline=\"\\n\") as f:\n",
    "    f.write(after)\n",
    "separate_before_after(diff_df_has_diff.iloc[0][\"content\"],diff_df_has_diff.iloc[0][\"comments_id\"])"
   ]
  },
  {
   "cell_type": "code",
   "execution_count": null,
   "metadata": {},
   "outputs": [],
   "source": [
    "diff_df_has_diff.iloc[0][\"content\"]"
   ]
  },
  {
   "cell_type": "code",
   "execution_count": null,
   "metadata": {},
   "outputs": [],
   "source": [
    "df = pd.read_pickle(\"../1.scraping/scraped_files/opendev/diff.pkl\")"
   ]
  },
  {
   "cell_type": "code",
   "execution_count": null,
   "metadata": {},
   "outputs": [],
   "source": [
    "df[\"meta_a.name\"].unique()"
   ]
  },
  {
   "cell_type": "code",
   "execution_count": null,
   "metadata": {},
   "outputs": [],
   "source": [
    "df[\"is_java\"] = df[\"meta_a.name\"].str.contains(\".java\")"
   ]
  },
  {
   "cell_type": "code",
   "execution_count": null,
   "metadata": {},
   "outputs": [],
   "source": [
    "df[\"is_java\"].value_counts()"
   ]
  },
  {
   "cell_type": "code",
   "execution_count": null,
   "metadata": {},
   "outputs": [],
   "source": [
    "diff_df = pd.read_pickle(\"../1.scraping/scraped_files/chromium/diff.pkl\")\n"
   ]
  },
  {
   "cell_type": "markdown",
   "metadata": {},
   "source": []
  },
  {
   "cell_type": "code",
   "execution_count": null,
   "metadata": {},
   "outputs": [],
   "source": [
    "diff_df[\"has_diff\"] = diff_df[\"content\"].apply(lambda x: len(x) != 1)\n",
    "diff_df[\"is_java\"]  = diff_df[\"meta_a.name\"].str.contains(\".java\")\n",
    "df_temp = diff_df[diff_df[\"is_java\"] & diff_df[\"has_diff\"] ].loc[:,[\"comments_id\",\"content\"]].values"
   ]
  },
  {
   "cell_type": "code",
   "execution_count": null,
   "metadata": {},
   "outputs": [],
   "source": [
    "def separate_before_after(comment_id,contents):\n",
    "  before = list()\n",
    "  after = list()\n",
    "  for content in contents:\n",
    "    if \"a\" in content:\n",
    "      after.extend(content[\"a\"])\n",
    "    elif \"b\" in content:\n",
    "      before.extend(content[\"b\"])\n",
    "    elif \"ab\" in content:\n",
    "      after.extend(content[\"ab\"])\n",
    "      before.extend(content[\"ab\"])\n",
    "  with open(\"./files/\"+comment_id+\"_before.java\",\"w\", encoding=\"utf-8\") as f:\n",
    "    f.write(\"\\n\".join(before))\n",
    "  with open(\"./files/\"+comment_id+\"_after.java\",\"w\", encoding=\"utf-8\") as f:\n",
    "    f.write(\"\\n\".join(after))\n"
   ]
  },
  {
   "cell_type": "code",
   "execution_count": null,
   "metadata": {},
   "outputs": [],
   "source": [
    "[*map(lambda x: separate_before_after(x[0],x[1]), df_temp )]"
   ]
  },
  {
   "cell_type": "code",
   "execution_count": null,
   "metadata": {},
   "outputs": [],
   "source": [
    "df_temp = diff_df[diff_df[\"is_java\"] & diff_df[\"has_diff\"] ]"
   ]
  },
  {
   "cell_type": "code",
   "execution_count": null,
   "metadata": {},
   "outputs": [],
   "source": [
    "df_temp.info()"
   ]
  },
  {
   "cell_type": "code",
   "execution_count": null,
   "metadata": {},
   "outputs": [],
   "source": [
    "comments_df = pd.read_pickle(\"../1.scraping/scraped_files/chromium/comments.pkl\")\n",
    "comments_df.info()"
   ]
  },
  {
   "cell_type": "code",
   "execution_count": null,
   "metadata": {},
   "outputs": [],
   "source": [
    "# merge\n",
    "comments_df = comments_df.rename(columns={'id': 'comments_id'})\n",
    "merge_df = pd.merge(comments_df, df_temp)"
   ]
  },
  {
   "cell_type": "code",
   "execution_count": null,
   "metadata": {},
   "outputs": [],
   "source": [
    "merge_df= merge_df.loc[:,[\"comments_id\",\"line\",\"message\",\"range.start_line\",\"range.end_line\"]]"
   ]
  },
  {
   "cell_type": "code",
   "execution_count": null,
   "metadata": {},
   "outputs": [],
   "source": [
    "merge_df[\"filepath_before\"] = merge_df[\"comments_id\"].apply(lambda x: x+\"_before.java\")\n",
    "merge_df[\"filepath_after\"] = merge_df[\"comments_id\"].apply(lambda x: x+\"_after.java\")\n",
    "merge_df[\"is_gerrit\"] = True\n",
    "merge_df[\"repository_name\"] = \"chromium\"\n",
    "\n",
    "\n"
   ]
  },
  {
   "cell_type": "code",
   "execution_count": null,
   "metadata": {},
   "outputs": [],
   "source": [
    "df = pd.read_pickle(\"./review_df.pkl\")"
   ]
  },
  {
   "cell_type": "code",
   "execution_count": null,
   "metadata": {},
   "outputs": [],
   "source": [
    "df"
   ]
  },
  {
   "cell_type": "markdown",
   "metadata": {},
   "source": []
  }
 ],
 "metadata": {
  "interpreter": {
   "hash": "8b52450082a8de8a5b45e8be08c34f8d57cccdae220137bb0eba7ea176d16052"
  },
  "kernelspec": {
   "display_name": "Python 3.8.2 64-bit ('venv': venv)",
   "name": "python3"
  },
  "language_info": {
   "codemirror_mode": {
    "name": "ipython",
    "version": 3
   },
   "file_extension": ".py",
   "mimetype": "text/x-python",
   "name": "python",
   "nbconvert_exporter": "python",
   "pygments_lexer": "ipython3",
   "version": "3.8.2"
  },
  "orig_nbformat": 4
 },
 "nbformat": 4,
 "nbformat_minor": 2
}
