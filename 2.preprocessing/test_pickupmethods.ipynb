{
 "cells": [
  {
   "cell_type": "code",
   "execution_count": 19,
   "metadata": {},
   "outputs": [],
   "source": [
    "import lizard\n",
    "import pandas as pd\n",
    "import matplotlib"
   ]
  },
  {
   "cell_type": "code",
   "execution_count": null,
   "metadata": {},
   "outputs": [],
   "source": []
  },
  {
   "cell_type": "code",
   "execution_count": 46,
   "metadata": {},
   "outputs": [],
   "source": [
    "# ファイルをlistで読み込み\n",
    "def read_file_as_list(file_path):\n",
    "  f = open(file_path, 'r')\n",
    "  lines = f.readlines()\n",
    "  f.close()\n",
    "  return lines\n",
    "# ファイルをlistで保存\n",
    "def save_list_as_file(file_path,li):\n",
    "  with open(file_path,\"w\", encoding=\"utf-8\") as f:\n",
    "    f.write(\"\".join(li))\n"
   ]
  },
  {
   "cell_type": "markdown",
   "metadata": {},
   "source": [
    "# 該当する関数領域の切り出しを目指す。"
   ]
  },
  {
   "cell_type": "code",
   "execution_count": 30,
   "metadata": {},
   "outputs": [
    {
     "name": "stdout",
     "output_type": "stream",
     "text": [
      "<class 'pandas.core.frame.DataFrame'>\n",
      "Int64Index: 783 entries, 0 to 782\n",
      "Data columns (total 9 columns):\n",
      " #   Column            Non-Null Count  Dtype  \n",
      "---  ------            --------------  -----  \n",
      " 0   comments_id       783 non-null    object \n",
      " 1   line              783 non-null    float64\n",
      " 2   message           783 non-null    object \n",
      " 3   range.start_line  680 non-null    float64\n",
      " 4   range.end_line    680 non-null    float64\n",
      " 5   filepath_before   783 non-null    object \n",
      " 6   filepath_after    783 non-null    object \n",
      " 7   is_gerrit         783 non-null    bool   \n",
      " 8   repository_name   783 non-null    object \n",
      "dtypes: bool(1), float64(3), object(5)\n",
      "memory usage: 55.8+ KB\n"
     ]
    }
   ],
   "source": [
    "review_df = pd.read_pickle(\"./review_df.pkl\")\n",
    "review_df.info()"
   ]
  },
  {
   "cell_type": "code",
   "execution_count": 31,
   "metadata": {},
   "outputs": [],
   "source": [
    "# 1データでやる。\n",
    "sample = review_df.loc[0]\n",
    "fb = sample.filepath_before"
   ]
  },
  {
   "cell_type": "code",
   "execution_count": 41,
   "metadata": {},
   "outputs": [
    {
     "data": {
      "text/plain": [
       "'140fa212_552b55e6_before.java'"
      ]
     },
     "execution_count": 41,
     "metadata": {},
     "output_type": "execute_result"
    }
   ],
   "source": [
    "sample.filepath_before"
   ]
  },
  {
   "cell_type": "code",
   "execution_count": 34,
   "metadata": {},
   "outputs": [],
   "source": [
    "import os\n",
    "i = lizard.analyze_file(\"./files/\"+fb)"
   ]
  },
  {
   "cell_type": "code",
   "execution_count": 40,
   "metadata": {},
   "outputs": [
    {
     "name": "stdout",
     "output_type": "stream",
     "text": [
      "['        {\\n', '            add(ChromeTabbedActivity.class.getName());\\n', '            add(MultiInstanceChromeTabbedActivity.class.getName());\\n', '            add(ChromeTabbedActivity2.class.getName());\\n', '            add(MAIN_LAUNCHER_ACTIVITY_NAME);\\n', '        }\\n', '    };\\n']\n",
      "    public static final HashSet<String> TABBED_MODE_COMPONENT_NAMES = new HashSet<String>() {\n",
      "\n",
      "        {\n",
      "\n",
      "            add(ChromeTabbedActivity.class.getName());\n",
      "\n",
      "            add(MultiInstanceChromeTabbedActivity.class.getName());\n",
      "\n",
      "            add(ChromeTabbedActivity2.class.getName());\n",
      "\n",
      "            add(MAIN_LAUNCHER_ACTIVITY_NAME);\n",
      "\n",
      "        }\n",
      "\n",
      "    };\n",
      "\n"
     ]
    }
   ],
   "source": [
    "lizard_di = i.function_list[0].__dict__\n",
    "start_line = i.function_list[0].__dict__[\"start_line\"]\n",
    "end_line = i.function_list[0].__dict__[\"end_line\"]\n",
    "file_li = read_file_as_list(\"./files/\"+fb)\n",
    "print(file_li[start_line:end_line] )\n",
    "for line in file_li[start_line-1:end_line]:\n",
    "  print(line)\n"
   ]
  },
  {
   "cell_type": "code",
   "execution_count": 55,
   "metadata": {},
   "outputs": [],
   "source": [
    "# get methods でファイル保存してメソッド数を返す\n",
    "\n",
    "import lizard\n",
    "def get_methods(filepath):\n",
    "  file_li = read_file_as_list(\"./files/\"+filepath)\n",
    "  \n",
    "  liz = lizard.analyze_file(\"./files/\"+fb)\n",
    "  for i,liz_func in enumerate(liz.function_list):\n",
    "    start_line = liz_func.__dict__[\"start_line\"]\n",
    "    end_line = liz_func.__dict__[\"end_line\"]\n",
    "    methods = file_li[start_line-1:end_line]\n",
    "    save_list_as_file(\"./methods/\"+filepath.rsplit(\"_\",1)[0]+\"_\"+str(i)+\"_\"+filepath.rsplit(\"_\",1)[1],methods)\n",
    "  return len(liz.function_list)"
   ]
  },
  {
   "cell_type": "code",
   "execution_count": 56,
   "metadata": {},
   "outputs": [
    {
     "data": {
      "text/plain": [
       "117"
      ]
     },
     "execution_count": 56,
     "metadata": {},
     "output_type": "execute_result"
    }
   ],
   "source": [
    "get_methods(sample.filepath_before)"
   ]
  },
  {
   "cell_type": "code",
   "execution_count": null,
   "metadata": {},
   "outputs": [],
   "source": []
  }
 ],
 "metadata": {
  "interpreter": {
   "hash": "8b52450082a8de8a5b45e8be08c34f8d57cccdae220137bb0eba7ea176d16052"
  },
  "kernelspec": {
   "display_name": "Python 3.8.2 64-bit ('venv': venv)",
   "name": "python3"
  },
  "language_info": {
   "codemirror_mode": {
    "name": "ipython",
    "version": 3
   },
   "file_extension": ".py",
   "mimetype": "text/x-python",
   "name": "python",
   "nbconvert_exporter": "python",
   "pygments_lexer": "ipython3",
   "version": "3.8.2"
  },
  "orig_nbformat": 4
 },
 "nbformat": 4,
 "nbformat_minor": 2
}
