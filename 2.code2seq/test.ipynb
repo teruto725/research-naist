{
 "cells": [
  {
   "cell_type": "markdown",
   "metadata": {},
   "source": [
    "code_reviewのraw_data_spritについて見てみる"
   ]
  },
  {
   "cell_type": "code",
   "execution_count": 6,
   "metadata": {},
   "outputs": [],
   "source": [
    "import pandas as pd\n",
    "import numpy as np\n",
    "import nltk\n",
    "from nltk.corpus import stopwords\n",
    "stopwords_nltk = stopwords.words(\"english\")\n"
   ]
  },
  {
   "cell_type": "code",
   "execution_count": 7,
   "metadata": {},
   "outputs": [],
   "source": [
    "val_df = pd.read_pickle(\"./1.cleaned_prev_data/val.pkl\")"
   ]
  },
  {
   "cell_type": "code",
   "execution_count": 8,
   "metadata": {},
   "outputs": [
    {
     "data": {
      "text/html": [
       "<div>\n",
       "<style scoped>\n",
       "    .dataframe tbody tr th:only-of-type {\n",
       "        vertical-align: middle;\n",
       "    }\n",
       "\n",
       "    .dataframe tbody tr th {\n",
       "        vertical-align: top;\n",
       "    }\n",
       "\n",
       "    .dataframe thead th {\n",
       "        text-align: right;\n",
       "    }\n",
       "</style>\n",
       "<table border=\"1\" class=\"dataframe\">\n",
       "  <thead>\n",
       "    <tr style=\"text-align: right;\">\n",
       "      <th></th>\n",
       "      <th>comment</th>\n",
       "      <th>before</th>\n",
       "      <th>before_marked</th>\n",
       "      <th>after</th>\n",
       "    </tr>\n",
       "  </thead>\n",
       "  <tbody>\n",
       "    <tr>\n",
       "      <th>0</th>\n",
       "      <td>Setting the alias and temp directory can be qu...</td>\n",
       "      <td>\\tpublic void startRuntime() {\\n\\t\\tString tem...</td>\n",
       "      <td>\\tpublic void startRuntime() {\\n\\t\\tString tem...</td>\n",
       "      <td>\\tpublic void startRuntime() {\\n\\t\\tv8 = V8.cr...</td>\n",
       "    </tr>\n",
       "    <tr>\n",
       "      <th>1</th>\n",
       "      <td>This bloc of code is repeated many times, shou...</td>\n",
       "      <td>public GWCConfig getConfig() {\\n        if...</td>\n",
       "      <td>public GWCConfig getConfig() {\\nSTART     ...</td>\n",
       "      <td>public GWCConfig getConfig() {\\n        re...</td>\n",
       "    </tr>\n",
       "    <tr>\n",
       "      <th>2</th>\n",
       "      <td>again, maybe StringUtils.defaultString()</td>\n",
       "      <td>private BlackboardArtifact createDownloadA...</td>\n",
       "      <td>private BlackboardArtifact createDownloadA...</td>\n",
       "      <td>private BlackboardArtifact createDownloadA...</td>\n",
       "    </tr>\n",
       "    <tr>\n",
       "      <th>3</th>\n",
       "      <td>I fear we won't be able to add this fail fast ...</td>\n",
       "      <td>public IncrementalScoreDirector(Incrementa...</td>\n",
       "      <td>public IncrementalScoreDirector(Incrementa...</td>\n",
       "      <td>public IncrementalScoreDirector(Incrementa...</td>\n",
       "    </tr>\n",
       "    <tr>\n",
       "      <th>4</th>\n",
       "      <td>no need for the return statement.</td>\n",
       "      <td>\\tpublic static void copyFile(InputStream inpu...</td>\n",
       "      <td>\\tpublic static void copyFile(InputStream inpu...</td>\n",
       "      <td>\\tpublic static void copyFile(InputStream inpu...</td>\n",
       "    </tr>\n",
       "    <tr>\n",
       "      <th>...</th>\n",
       "      <td>...</td>\n",
       "      <td>...</td>\n",
       "      <td>...</td>\n",
       "      <td>...</td>\n",
       "    </tr>\n",
       "    <tr>\n",
       "      <th>1714</th>\n",
       "      <td>I think we could get rid of the `altKey` varia...</td>\n",
       "      <td>protected Map&lt;K, V&gt; copy(Map&lt;K, V&gt; source,...</td>\n",
       "      <td>protected Map&lt;K, V&gt; copy(Map&lt;K, V&gt; source,...</td>\n",
       "      <td>protected Map&lt;K, V&gt; copy(Map&lt;K, V&gt; source,...</td>\n",
       "    </tr>\n",
       "    <tr>\n",
       "      <th>1715</th>\n",
       "      <td>A graceful shutdown would be nice. See the use...</td>\n",
       "      <td>protected void limitTotalNumberOfCnxns() t...</td>\n",
       "      <td>protected void limitTotalNumberOfCnxns() t...</td>\n",
       "      <td>protected boolean limitTotalNumberOfCnxns(...</td>\n",
       "    </tr>\n",
       "    <tr>\n",
       "      <th>1716</th>\n",
       "      <td>Consider using a Singleton pattern here.  For ...</td>\n",
       "      <td>public static TLSClientParametersFactory g...</td>\n",
       "      <td>START     public static TLSClientParametersFac...</td>\n",
       "      <td>public static TLSClientParametersFactory g...</td>\n",
       "    </tr>\n",
       "    <tr>\n",
       "      <th>1717</th>\n",
       "      <td>Maybe incorportate it into debug logging inste...</td>\n",
       "      <td>public static XmlForm parse(String xml, bo...</td>\n",
       "      <td>public static XmlForm parse(String xml, bo...</td>\n",
       "      <td>public static XmlForm parse(String xml, bo...</td>\n",
       "    </tr>\n",
       "    <tr>\n",
       "      <th>1718</th>\n",
       "      <td>it should use integer parameter instead of tru...</td>\n",
       "      <td>\\tprotected BitmapFont newBitmapFont(BitmapFon...</td>\n",
       "      <td>\\tprotected BitmapFont newBitmapFont(BitmapFon...</td>\n",
       "      <td>\\tprotected BitmapFont newBitmapFont(BitmapFon...</td>\n",
       "    </tr>\n",
       "  </tbody>\n",
       "</table>\n",
       "<p>1687 rows × 4 columns</p>\n",
       "</div>"
      ],
      "text/plain": [
       "                                                comment  \\\n",
       "0     Setting the alias and temp directory can be qu...   \n",
       "1     This bloc of code is repeated many times, shou...   \n",
       "2              again, maybe StringUtils.defaultString()   \n",
       "3     I fear we won't be able to add this fail fast ...   \n",
       "4                     no need for the return statement.   \n",
       "...                                                 ...   \n",
       "1714  I think we could get rid of the `altKey` varia...   \n",
       "1715  A graceful shutdown would be nice. See the use...   \n",
       "1716  Consider using a Singleton pattern here.  For ...   \n",
       "1717  Maybe incorportate it into debug logging inste...   \n",
       "1718  it should use integer parameter instead of tru...   \n",
       "\n",
       "                                                 before  \\\n",
       "0     \\tpublic void startRuntime() {\\n\\t\\tString tem...   \n",
       "1         public GWCConfig getConfig() {\\n        if...   \n",
       "2         private BlackboardArtifact createDownloadA...   \n",
       "3         public IncrementalScoreDirector(Incrementa...   \n",
       "4     \\tpublic static void copyFile(InputStream inpu...   \n",
       "...                                                 ...   \n",
       "1714      protected Map<K, V> copy(Map<K, V> source,...   \n",
       "1715      protected void limitTotalNumberOfCnxns() t...   \n",
       "1716      public static TLSClientParametersFactory g...   \n",
       "1717      public static XmlForm parse(String xml, bo...   \n",
       "1718  \\tprotected BitmapFont newBitmapFont(BitmapFon...   \n",
       "\n",
       "                                          before_marked  \\\n",
       "0     \\tpublic void startRuntime() {\\n\\t\\tString tem...   \n",
       "1         public GWCConfig getConfig() {\\nSTART     ...   \n",
       "2         private BlackboardArtifact createDownloadA...   \n",
       "3         public IncrementalScoreDirector(Incrementa...   \n",
       "4     \\tpublic static void copyFile(InputStream inpu...   \n",
       "...                                                 ...   \n",
       "1714      protected Map<K, V> copy(Map<K, V> source,...   \n",
       "1715      protected void limitTotalNumberOfCnxns() t...   \n",
       "1716  START     public static TLSClientParametersFac...   \n",
       "1717      public static XmlForm parse(String xml, bo...   \n",
       "1718  \\tprotected BitmapFont newBitmapFont(BitmapFon...   \n",
       "\n",
       "                                                  after  \n",
       "0     \\tpublic void startRuntime() {\\n\\t\\tv8 = V8.cr...  \n",
       "1         public GWCConfig getConfig() {\\n        re...  \n",
       "2         private BlackboardArtifact createDownloadA...  \n",
       "3         public IncrementalScoreDirector(Incrementa...  \n",
       "4     \\tpublic static void copyFile(InputStream inpu...  \n",
       "...                                                 ...  \n",
       "1714      protected Map<K, V> copy(Map<K, V> source,...  \n",
       "1715      protected boolean limitTotalNumberOfCnxns(...  \n",
       "1716      public static TLSClientParametersFactory g...  \n",
       "1717      public static XmlForm parse(String xml, bo...  \n",
       "1718  \\tprotected BitmapFont newBitmapFont(BitmapFon...  \n",
       "\n",
       "[1687 rows x 4 columns]"
      ]
     },
     "execution_count": 8,
     "metadata": {},
     "output_type": "execute_result"
    }
   ],
   "source": [
    "val_df\n",
    "\n"
   ]
  },
  {
   "cell_type": "markdown",
   "metadata": {},
   "source": [
    "# preprocessingの出力ファイルを理解する"
   ]
  },
  {
   "cell_type": "code",
   "execution_count": 18,
   "metadata": {},
   "outputs": [],
   "source": [
    "import pickle\n",
    "with open('./original_data/{}.dict.c2s'.format(\"java-small\"), 'rb') as file:\n",
    "   pass\n"
   ]
  },
  {
   "cell_type": "code",
   "execution_count": 24,
   "metadata": {},
   "outputs": [
    {
     "name": "stdout",
     "output_type": "stream",
     "text": [
      "691974\n"
     ]
    }
   ],
   "source": [
    "\n",
    "with open('./original_data/{}.dict.c2s'.format(\"java-small\"), 'rb') as file:\n",
    "    subtoken_to_count = pickle.load(file)\n",
    "    node_to_count = pickle.load(file)\n",
    "    target_to_count = pickle.load(file)\n",
    "    max_contexts = pickle.load(file)\n",
    "    num_training_examples = pickle.load(file)\n",
    "    # print(subtoken_to_count)\n",
    "    # print(node_to_count)\n",
    "    # print(target_to_count)\n",
    "    # print(max_contexts)\n",
    "    # print(num_training_examples)"
   ]
  },
  {
   "cell_type": "code",
   "execution_count": 25,
   "metadata": {},
   "outputs": [
    {
     "ename": "NameError",
     "evalue": "name 'tf' is not defined",
     "output_type": "error",
     "traceback": [
      "\u001b[0;31m---------------------------------------------------------------------------\u001b[0m",
      "\u001b[0;31mNameError\u001b[0m                                 Traceback (most recent call last)",
      "\u001b[0;32m/var/folders/v9/7w9r94gd5qj0kq2g_hr6s4500000gn/T/ipykernel_69296/3359145884.py\u001b[0m in \u001b[0;36m<module>\u001b[0;34m\u001b[0m\n\u001b[0;32m----> 1\u001b[0;31m dataset = tf.data.experimental.CsvDataset(\"./original_data/java-small.dict.c2s\", record_defaults=1000, field_delim=' ',\n\u001b[0m\u001b[1;32m      2\u001b[0m                                           use_quote_delim=False)\n",
      "\u001b[0;31mNameError\u001b[0m: name 'tf' is not defined"
     ]
    }
   ],
   "source": [
    "import tensorflow as tf\n",
    "\n",
    "dataset = tf.data.experimental.CsvDataset(\"./original_data/java-small.dict.c2s\", record_defaults=1000, field_delim=' ', use_quote_delim=False)"
   ]
  },
  {
   "cell_type": "code",
   "execution_count": null,
   "metadata": {},
   "outputs": [],
   "source": []
  }
 ],
 "metadata": {
  "interpreter": {
   "hash": "8b52450082a8de8a5b45e8be08c34f8d57cccdae220137bb0eba7ea176d16052"
  },
  "kernelspec": {
   "display_name": "Python 3.8.2 64-bit ('venv': venv)",
   "language": "python",
   "name": "python3"
  },
  "language_info": {
   "codemirror_mode": {
    "name": "ipython",
    "version": 3
   },
   "file_extension": ".py",
   "mimetype": "text/x-python",
   "name": "python",
   "nbconvert_exporter": "python",
   "pygments_lexer": "ipython3",
   "version": "3.8.5"
  },
  "orig_nbformat": 4
 },
 "nbformat": 4,
 "nbformat_minor": 2
}
