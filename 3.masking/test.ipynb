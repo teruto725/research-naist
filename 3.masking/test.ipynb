{
 "cells": [
  {
   "cell_type": "code",
   "execution_count": 3,
   "metadata": {},
   "outputs": [],
   "source": [
    "import pandas as pd\n",
    "import lizard\n",
    "import subprocess\n",
    "import os\n",
    "import shutil"
   ]
  },
  {
   "cell_type": "code",
   "execution_count": 4,
   "metadata": {},
   "outputs": [
    {
     "data": {
      "text/html": [
       "<div>\n",
       "<style scoped>\n",
       "    .dataframe tbody tr th:only-of-type {\n",
       "        vertical-align: middle;\n",
       "    }\n",
       "\n",
       "    .dataframe tbody tr th {\n",
       "        vertical-align: top;\n",
       "    }\n",
       "\n",
       "    .dataframe thead th {\n",
       "        text-align: right;\n",
       "    }\n",
       "</style>\n",
       "<table border=\"1\" class=\"dataframe\">\n",
       "  <thead>\n",
       "    <tr style=\"text-align: right;\">\n",
       "      <th></th>\n",
       "      <th>comments_id</th>\n",
       "      <th>line</th>\n",
       "      <th>message</th>\n",
       "      <th>range.start_line</th>\n",
       "      <th>range.end_line</th>\n",
       "      <th>content</th>\n",
       "      <th>changes_id</th>\n",
       "      <th>revisions_id</th>\n",
       "      <th>path</th>\n",
       "      <th>filepath_before</th>\n",
       "      <th>filepath_after</th>\n",
       "      <th>method_name_commented</th>\n",
       "      <th>is_included_after</th>\n",
       "      <th>is_revised_method_comment</th>\n",
       "    </tr>\n",
       "  </thead>\n",
       "  <tbody>\n",
       "    <tr>\n",
       "      <th>0</th>\n",
       "      <td>140fa212_552b55e6</td>\n",
       "      <td>2168.0</td>\n",
       "      <td>We could also review this closing tab check. T...</td>\n",
       "      <td>NaN</td>\n",
       "      <td>NaN</td>\n",
       "      <td>[{'ab': ['// Copyright 2015 The Chromium Autho...</td>\n",
       "      <td>chromium%2Fsrc~main~Ib63fff1d02f6696a61891dd64...</td>\n",
       "      <td>8731f872fe833f2c64a8604ff02ad616355d9fed</td>\n",
       "      <td>chrome/android/java/src/org/chromium/chrome/br...</td>\n",
       "      <td>140fa212_552b55e6_before.java</td>\n",
       "      <td>140fa212_552b55e6_after.java</td>\n",
       "      <td>ChromeTabbedActivity::handleBackPressed</td>\n",
       "      <td>True</td>\n",
       "      <td>True</td>\n",
       "    </tr>\n",
       "    <tr>\n",
       "      <th>1</th>\n",
       "      <td>7fa9753f_9d8ef123</td>\n",
       "      <td>2168.0</td>\n",
       "      <td>I think it is fine to close the Tab.</td>\n",
       "      <td>NaN</td>\n",
       "      <td>NaN</td>\n",
       "      <td>[{'ab': ['// Copyright 2015 The Chromium Autho...</td>\n",
       "      <td>chromium%2Fsrc~main~Ib63fff1d02f6696a61891dd64...</td>\n",
       "      <td>8731f872fe833f2c64a8604ff02ad616355d9fed</td>\n",
       "      <td>chrome/android/java/src/org/chromium/chrome/br...</td>\n",
       "      <td>7fa9753f_9d8ef123_before.java</td>\n",
       "      <td>7fa9753f_9d8ef123_after.java</td>\n",
       "      <td>ChromeTabbedActivity::handleBackPressed</td>\n",
       "      <td>True</td>\n",
       "      <td>True</td>\n",
       "    </tr>\n",
       "    <tr>\n",
       "      <th>2</th>\n",
       "      <td>b5ea4309_819de63f</td>\n",
       "      <td>2168.0</td>\n",
       "      <td>Ack</td>\n",
       "      <td>NaN</td>\n",
       "      <td>NaN</td>\n",
       "      <td>[{'ab': ['// Copyright 2015 The Chromium Autho...</td>\n",
       "      <td>chromium%2Fsrc~main~Ib63fff1d02f6696a61891dd64...</td>\n",
       "      <td>8731f872fe833f2c64a8604ff02ad616355d9fed</td>\n",
       "      <td>chrome/android/java/src/org/chromium/chrome/br...</td>\n",
       "      <td>b5ea4309_819de63f_before.java</td>\n",
       "      <td>b5ea4309_819de63f_after.java</td>\n",
       "      <td>ChromeTabbedActivity::handleBackPressed</td>\n",
       "      <td>True</td>\n",
       "      <td>True</td>\n",
       "    </tr>\n",
       "    <tr>\n",
       "      <th>6</th>\n",
       "      <td>dc75234d_557459ea</td>\n",
       "      <td>391.0</td>\n",
       "      <td>Reading through the CL one more time - it look...</td>\n",
       "      <td>390.0</td>\n",
       "      <td>391.0</td>\n",
       "      <td>[{'ab': ['// Copyright 2015 The Chromium Autho...</td>\n",
       "      <td>chromium%2Fsrc~main~I8c1ec9d2b63189464793281e3...</td>\n",
       "      <td>22e946dadefb9c777a072553c1c6f831d2382e2d</td>\n",
       "      <td>chrome/android/java/src/org/chromium/chrome/br...</td>\n",
       "      <td>dc75234d_557459ea_before.java</td>\n",
       "      <td>dc75234d_557459ea_after.java</td>\n",
       "      <td>RecentTabsManager::calculatePromoState</td>\n",
       "      <td>True</td>\n",
       "      <td>True</td>\n",
       "    </tr>\n",
       "    <tr>\n",
       "      <th>7</th>\n",
       "      <td>4889ba76_7b6f8367</td>\n",
       "      <td>391.0</td>\n",
       "      <td>Done</td>\n",
       "      <td>390.0</td>\n",
       "      <td>391.0</td>\n",
       "      <td>[{'ab': ['// Copyright 2015 The Chromium Autho...</td>\n",
       "      <td>chromium%2Fsrc~main~I8c1ec9d2b63189464793281e3...</td>\n",
       "      <td>22e946dadefb9c777a072553c1c6f831d2382e2d</td>\n",
       "      <td>chrome/android/java/src/org/chromium/chrome/br...</td>\n",
       "      <td>4889ba76_7b6f8367_before.java</td>\n",
       "      <td>4889ba76_7b6f8367_after.java</td>\n",
       "      <td>RecentTabsManager::calculatePromoState</td>\n",
       "      <td>True</td>\n",
       "      <td>True</td>\n",
       "    </tr>\n",
       "  </tbody>\n",
       "</table>\n",
       "</div>"
      ],
      "text/plain": [
       "         comments_id    line  \\\n",
       "0  140fa212_552b55e6  2168.0   \n",
       "1  7fa9753f_9d8ef123  2168.0   \n",
       "2  b5ea4309_819de63f  2168.0   \n",
       "6  dc75234d_557459ea   391.0   \n",
       "7  4889ba76_7b6f8367   391.0   \n",
       "\n",
       "                                             message  range.start_line  \\\n",
       "0  We could also review this closing tab check. T...               NaN   \n",
       "1               I think it is fine to close the Tab.               NaN   \n",
       "2                                                Ack               NaN   \n",
       "6  Reading through the CL one more time - it look...             390.0   \n",
       "7                                               Done             390.0   \n",
       "\n",
       "   range.end_line                                            content  \\\n",
       "0             NaN  [{'ab': ['// Copyright 2015 The Chromium Autho...   \n",
       "1             NaN  [{'ab': ['// Copyright 2015 The Chromium Autho...   \n",
       "2             NaN  [{'ab': ['// Copyright 2015 The Chromium Autho...   \n",
       "6           391.0  [{'ab': ['// Copyright 2015 The Chromium Autho...   \n",
       "7           391.0  [{'ab': ['// Copyright 2015 The Chromium Autho...   \n",
       "\n",
       "                                          changes_id  \\\n",
       "0  chromium%2Fsrc~main~Ib63fff1d02f6696a61891dd64...   \n",
       "1  chromium%2Fsrc~main~Ib63fff1d02f6696a61891dd64...   \n",
       "2  chromium%2Fsrc~main~Ib63fff1d02f6696a61891dd64...   \n",
       "6  chromium%2Fsrc~main~I8c1ec9d2b63189464793281e3...   \n",
       "7  chromium%2Fsrc~main~I8c1ec9d2b63189464793281e3...   \n",
       "\n",
       "                               revisions_id  \\\n",
       "0  8731f872fe833f2c64a8604ff02ad616355d9fed   \n",
       "1  8731f872fe833f2c64a8604ff02ad616355d9fed   \n",
       "2  8731f872fe833f2c64a8604ff02ad616355d9fed   \n",
       "6  22e946dadefb9c777a072553c1c6f831d2382e2d   \n",
       "7  22e946dadefb9c777a072553c1c6f831d2382e2d   \n",
       "\n",
       "                                                path  \\\n",
       "0  chrome/android/java/src/org/chromium/chrome/br...   \n",
       "1  chrome/android/java/src/org/chromium/chrome/br...   \n",
       "2  chrome/android/java/src/org/chromium/chrome/br...   \n",
       "6  chrome/android/java/src/org/chromium/chrome/br...   \n",
       "7  chrome/android/java/src/org/chromium/chrome/br...   \n",
       "\n",
       "                 filepath_before                filepath_after  \\\n",
       "0  140fa212_552b55e6_before.java  140fa212_552b55e6_after.java   \n",
       "1  7fa9753f_9d8ef123_before.java  7fa9753f_9d8ef123_after.java   \n",
       "2  b5ea4309_819de63f_before.java  b5ea4309_819de63f_after.java   \n",
       "6  dc75234d_557459ea_before.java  dc75234d_557459ea_after.java   \n",
       "7  4889ba76_7b6f8367_before.java  4889ba76_7b6f8367_after.java   \n",
       "\n",
       "                     method_name_commented  is_included_after  \\\n",
       "0  ChromeTabbedActivity::handleBackPressed               True   \n",
       "1  ChromeTabbedActivity::handleBackPressed               True   \n",
       "2  ChromeTabbedActivity::handleBackPressed               True   \n",
       "6   RecentTabsManager::calculatePromoState               True   \n",
       "7   RecentTabsManager::calculatePromoState               True   \n",
       "\n",
       "   is_revised_method_comment  \n",
       "0                       True  \n",
       "1                       True  \n",
       "2                       True  \n",
       "6                       True  \n",
       "7                       True  "
      ]
     },
     "execution_count": 4,
     "metadata": {},
     "output_type": "execute_result"
    }
   ],
   "source": [
    "comments_read_df = pd.read_pickle(\"../2.preprocessing/comments.pkl\")\n",
    "comments_read_df.head()"
   ]
  },
  {
   "cell_type": "code",
   "execution_count": 5,
   "metadata": {},
   "outputs": [],
   "source": [
    "comments_df = comments_read_df"
   ]
  },
  {
   "cell_type": "code",
   "execution_count": 6,
   "metadata": {},
   "outputs": [
    {
     "name": "stderr",
     "output_type": "stream",
     "text": [
      "Parsing ERROR!\n",
      "line 531:86 token recognition error at: '\\'\n",
      "line 531:86 token recognition error at: '\\'\n"
     ]
    },
    {
     "name": "stdout",
     "output_type": "stream",
     "text": [
      "Source Code Abstracted successfully!\n",
      "Abstracted Code: ./masked_files/140fa212_552b55e6_before.java and ./masked_files/140fa212_552b55e6_after.java\n",
      "Mapping: ./masked_files/140fa212_552b55e6_before.java.map\n"
     ]
    },
    {
     "name": "stderr",
     "output_type": "stream",
     "text": [
      "Parsing ERROR!\n",
      "line 531:86 token recognition error at: '\\'\n",
      "line 531:86 token recognition error at: '\\'\n"
     ]
    },
    {
     "name": "stdout",
     "output_type": "stream",
     "text": [
      "Source Code Abstracted successfully!\n",
      "Abstracted Code: ./masked_files/7fa9753f_9d8ef123_before.java and ./masked_files/7fa9753f_9d8ef123_after.java\n",
      "Mapping: ./masked_files/7fa9753f_9d8ef123_before.java.map\n"
     ]
    },
    {
     "name": "stderr",
     "output_type": "stream",
     "text": [
      "Parsing ERROR!\n",
      "line 531:86 token recognition error at: '\\'\n",
      "line 531:86 token recognition error at: '\\'\n"
     ]
    },
    {
     "name": "stdout",
     "output_type": "stream",
     "text": [
      "Source Code Abstracted successfully!\n",
      "Abstracted Code: ./masked_files/b5ea4309_819de63f_before.java and ./masked_files/b5ea4309_819de63f_after.java\n",
      "Mapping: ./masked_files/b5ea4309_819de63f_before.java.map\n"
     ]
    },
    {
     "name": "stderr",
     "output_type": "stream",
     "text": [
      "Parsing ERROR!\n"
     ]
    },
    {
     "name": "stdout",
     "output_type": "stream",
     "text": [
      "Source Code Abstracted successfully!\n",
      "Abstracted Code: ./masked_files/dc75234d_557459ea_before.java and ./masked_files/dc75234d_557459ea_after.java\n",
      "Mapping: ./masked_files/dc75234d_557459ea_before.java.map\n"
     ]
    },
    {
     "name": "stderr",
     "output_type": "stream",
     "text": [
      "Parsing ERROR!\n"
     ]
    },
    {
     "name": "stdout",
     "output_type": "stream",
     "text": [
      "Source Code Abstracted successfully!\n",
      "Abstracted Code: ./masked_files/4889ba76_7b6f8367_before.java and ./masked_files/4889ba76_7b6f8367_after.java\n",
      "Mapping: ./masked_files/4889ba76_7b6f8367_before.java.map\n"
     ]
    },
    {
     "name": "stderr",
     "output_type": "stream",
     "text": [
      "Parsing ERROR!\n"
     ]
    },
    {
     "name": "stdout",
     "output_type": "stream",
     "text": [
      "Source Code Abstracted successfully!\n",
      "Abstracted Code: ./masked_files/6395c650_38152d5e_before.java and ./masked_files/6395c650_38152d5e_after.java\n",
      "Mapping: ./masked_files/6395c650_38152d5e_before.java.map\n"
     ]
    },
    {
     "name": "stderr",
     "output_type": "stream",
     "text": [
      "Parsing ERROR!\n"
     ]
    },
    {
     "name": "stdout",
     "output_type": "stream",
     "text": [
      "Source Code Abstracted successfully!\n",
      "Abstracted Code: ./masked_files/3ab64ce2_e0a82ea8_before.java and ./masked_files/3ab64ce2_e0a82ea8_after.java\n",
      "Mapping: ./masked_files/3ab64ce2_e0a82ea8_before.java.map\n"
     ]
    },
    {
     "name": "stderr",
     "output_type": "stream",
     "text": [
      "Parsing ERROR!\n"
     ]
    },
    {
     "name": "stdout",
     "output_type": "stream",
     "text": [
      "Source Code Abstracted successfully!\n",
      "Abstracted Code: ./masked_files/17fd13c1_5c295a5b_before.java and ./masked_files/17fd13c1_5c295a5b_after.java\n",
      "Mapping: ./masked_files/17fd13c1_5c295a5b_before.java.map\n"
     ]
    },
    {
     "name": "stderr",
     "output_type": "stream",
     "text": [
      "Parsing ERROR!\n"
     ]
    },
    {
     "name": "stdout",
     "output_type": "stream",
     "text": [
      "Source Code Abstracted successfully!\n",
      "Abstracted Code: ./masked_files/667f3941_7034dd1b_before.java and ./masked_files/667f3941_7034dd1b_after.java\n",
      "Mapping: ./masked_files/667f3941_7034dd1b_before.java.map\n"
     ]
    },
    {
     "name": "stderr",
     "output_type": "stream",
     "text": [
      "Parsing ERROR!\n"
     ]
    },
    {
     "name": "stdout",
     "output_type": "stream",
     "text": [
      "Source Code Abstracted successfully!\n",
      "Abstracted Code: ./masked_files/21e86f2d_5016db6c_before.java and ./masked_files/21e86f2d_5016db6c_after.java\n",
      "Mapping: ./masked_files/21e86f2d_5016db6c_before.java.map\n"
     ]
    },
    {
     "name": "stderr",
     "output_type": "stream",
     "text": [
      "Parsing ERROR!\n"
     ]
    },
    {
     "name": "stdout",
     "output_type": "stream",
     "text": [
      "Source Code Abstracted successfully!\n",
      "Abstracted Code: ./masked_files/6bed6b34_e7d40185_before.java and ./masked_files/6bed6b34_e7d40185_after.java\n",
      "Mapping: ./masked_files/6bed6b34_e7d40185_before.java.map\n"
     ]
    },
    {
     "name": "stderr",
     "output_type": "stream",
     "text": [
      "Parsing ERROR!\n"
     ]
    },
    {
     "name": "stdout",
     "output_type": "stream",
     "text": [
      "Source Code Abstracted successfully!\n",
      "Abstracted Code: ./masked_files/d9bf9954_21f98b78_before.java and ./masked_files/d9bf9954_21f98b78_after.java\n",
      "Mapping: ./masked_files/d9bf9954_21f98b78_before.java.map\n"
     ]
    },
    {
     "name": "stderr",
     "output_type": "stream",
     "text": [
      "Parsing ERROR!\n"
     ]
    },
    {
     "name": "stdout",
     "output_type": "stream",
     "text": [
      "Source Code Abstracted successfully!\n",
      "Abstracted Code: ./masked_files/e39333af_38929a00_before.java and ./masked_files/e39333af_38929a00_after.java\n",
      "Mapping: ./masked_files/e39333af_38929a00_before.java.map\n"
     ]
    },
    {
     "name": "stderr",
     "output_type": "stream",
     "text": [
      "Parsing ERROR!\n"
     ]
    },
    {
     "name": "stdout",
     "output_type": "stream",
     "text": [
      "Source Code Abstracted successfully!\n",
      "Abstracted Code: ./masked_files/ccc0eec1_c716bbe1_before.java and ./masked_files/ccc0eec1_c716bbe1_after.java\n",
      "Mapping: ./masked_files/ccc0eec1_c716bbe1_before.java.map\n"
     ]
    },
    {
     "name": "stderr",
     "output_type": "stream",
     "text": [
      "Parsing ERROR!\n"
     ]
    },
    {
     "name": "stdout",
     "output_type": "stream",
     "text": [
      "Source Code Abstracted successfully!\n",
      "Abstracted Code: ./masked_files/aef60e12_40ecd0bb_before.java and ./masked_files/aef60e12_40ecd0bb_after.java\n",
      "Mapping: ./masked_files/aef60e12_40ecd0bb_before.java.map\n"
     ]
    },
    {
     "name": "stderr",
     "output_type": "stream",
     "text": [
      "Parsing ERROR!\n"
     ]
    },
    {
     "name": "stdout",
     "output_type": "stream",
     "text": [
      "Source Code Abstracted successfully!\n",
      "Abstracted Code: ./masked_files/3c9dffbe_11cfa28e_before.java and ./masked_files/3c9dffbe_11cfa28e_after.java\n",
      "Mapping: ./masked_files/3c9dffbe_11cfa28e_before.java.map\n"
     ]
    },
    {
     "name": "stderr",
     "output_type": "stream",
     "text": [
      "Parsing ERROR!\n"
     ]
    },
    {
     "name": "stdout",
     "output_type": "stream",
     "text": [
      "Source Code Abstracted successfully!\n",
      "Abstracted Code: ./masked_files/3aba56b0_3679af05_before.java and ./masked_files/3aba56b0_3679af05_after.java\n",
      "Mapping: ./masked_files/3aba56b0_3679af05_before.java.map\n"
     ]
    },
    {
     "name": "stderr",
     "output_type": "stream",
     "text": [
      "Parsing ERROR!\n"
     ]
    },
    {
     "name": "stdout",
     "output_type": "stream",
     "text": [
      "Source Code Abstracted successfully!\n",
      "Abstracted Code: ./masked_files/1352903e_913850c6_before.java and ./masked_files/1352903e_913850c6_after.java\n",
      "Mapping: ./masked_files/1352903e_913850c6_before.java.map\n"
     ]
    },
    {
     "name": "stderr",
     "output_type": "stream",
     "text": [
      "Parsing ERROR!\n"
     ]
    },
    {
     "name": "stdout",
     "output_type": "stream",
     "text": [
      "Source Code Abstracted successfully!\n",
      "Abstracted Code: ./masked_files/b900a0c3_a7e3d737_before.java and ./masked_files/b900a0c3_a7e3d737_after.java\n",
      "Mapping: ./masked_files/b900a0c3_a7e3d737_before.java.map\n"
     ]
    },
    {
     "name": "stderr",
     "output_type": "stream",
     "text": [
      "Parsing ERROR!\n"
     ]
    },
    {
     "name": "stdout",
     "output_type": "stream",
     "text": [
      "Source Code Abstracted successfully!\n",
      "Abstracted Code: ./masked_files/5cae2ef7_508cb6bf_before.java and ./masked_files/5cae2ef7_508cb6bf_after.java\n",
      "Mapping: ./masked_files/5cae2ef7_508cb6bf_before.java.map\n"
     ]
    },
    {
     "name": "stderr",
     "output_type": "stream",
     "text": [
      "Parsing ERROR!\n"
     ]
    },
    {
     "name": "stdout",
     "output_type": "stream",
     "text": [
      "Source Code Abstracted successfully!\n",
      "Abstracted Code: ./masked_files/06b8ae77_bfb8df07_before.java and ./masked_files/06b8ae77_bfb8df07_after.java\n",
      "Mapping: ./masked_files/06b8ae77_bfb8df07_before.java.map\n"
     ]
    },
    {
     "name": "stderr",
     "output_type": "stream",
     "text": [
      "Parsing ERROR!\n"
     ]
    },
    {
     "name": "stdout",
     "output_type": "stream",
     "text": [
      "Source Code Abstracted successfully!\n",
      "Abstracted Code: ./masked_files/9bab2220_9319950a_before.java and ./masked_files/9bab2220_9319950a_after.java\n",
      "Mapping: ./masked_files/9bab2220_9319950a_before.java.map\n"
     ]
    },
    {
     "name": "stderr",
     "output_type": "stream",
     "text": [
      "Parsing ERROR!\n"
     ]
    },
    {
     "name": "stdout",
     "output_type": "stream",
     "text": [
      "Source Code Abstracted successfully!\n",
      "Abstracted Code: ./masked_files/fd75ad03_194bf6ad_before.java and ./masked_files/fd75ad03_194bf6ad_after.java\n",
      "Mapping: ./masked_files/fd75ad03_194bf6ad_before.java.map\n"
     ]
    },
    {
     "name": "stderr",
     "output_type": "stream",
     "text": [
      "Parsing ERROR!\n"
     ]
    },
    {
     "name": "stdout",
     "output_type": "stream",
     "text": [
      "Source Code Abstracted successfully!\n",
      "Abstracted Code: ./masked_files/c095cb5c_e76f3e7a_before.java and ./masked_files/c095cb5c_e76f3e7a_after.java\n",
      "Mapping: ./masked_files/c095cb5c_e76f3e7a_before.java.map\n"
     ]
    },
    {
     "name": "stderr",
     "output_type": "stream",
     "text": [
      "Parsing ERROR!\n"
     ]
    },
    {
     "name": "stdout",
     "output_type": "stream",
     "text": [
      "Source Code Abstracted successfully!\n",
      "Abstracted Code: ./masked_files/e1d80ebe_8ea8359d_before.java and ./masked_files/e1d80ebe_8ea8359d_after.java\n",
      "Mapping: ./masked_files/e1d80ebe_8ea8359d_before.java.map\n"
     ]
    },
    {
     "name": "stderr",
     "output_type": "stream",
     "text": [
      "Parsing ERROR!\n"
     ]
    },
    {
     "name": "stdout",
     "output_type": "stream",
     "text": [
      "Source Code Abstracted successfully!\n",
      "Abstracted Code: ./masked_files/0a880965_e08adf83_before.java and ./masked_files/0a880965_e08adf83_after.java\n",
      "Mapping: ./masked_files/0a880965_e08adf83_before.java.map\n"
     ]
    },
    {
     "name": "stderr",
     "output_type": "stream",
     "text": [
      "Parsing ERROR!\n"
     ]
    },
    {
     "name": "stdout",
     "output_type": "stream",
     "text": [
      "Source Code Abstracted successfully!\n",
      "Abstracted Code: ./masked_files/b01514fd_4e89dd9c_before.java and ./masked_files/b01514fd_4e89dd9c_after.java\n",
      "Mapping: ./masked_files/b01514fd_4e89dd9c_before.java.map\n"
     ]
    },
    {
     "name": "stderr",
     "output_type": "stream",
     "text": [
      "Parsing ERROR!\n"
     ]
    },
    {
     "name": "stdout",
     "output_type": "stream",
     "text": [
      "Source Code Abstracted successfully!\n",
      "Abstracted Code: ./masked_files/98c0be16_09d2e17a_before.java and ./masked_files/98c0be16_09d2e17a_after.java\n",
      "Mapping: ./masked_files/98c0be16_09d2e17a_before.java.map\n"
     ]
    },
    {
     "name": "stderr",
     "output_type": "stream",
     "text": [
      "Parsing ERROR!\n"
     ]
    },
    {
     "name": "stdout",
     "output_type": "stream",
     "text": [
      "Source Code Abstracted successfully!\n",
      "Abstracted Code: ./masked_files/f78ff58c_5da46b46_before.java and ./masked_files/f78ff58c_5da46b46_after.java\n",
      "Mapping: ./masked_files/f78ff58c_5da46b46_before.java.map\n"
     ]
    },
    {
     "name": "stderr",
     "output_type": "stream",
     "text": [
      "Parsing ERROR!\n"
     ]
    },
    {
     "name": "stdout",
     "output_type": "stream",
     "text": [
      "Source Code Abstracted successfully!\n",
      "Abstracted Code: ./masked_files/f40d885f_697ef2a8_before.java and ./masked_files/f40d885f_697ef2a8_after.java\n",
      "Mapping: ./masked_files/f40d885f_697ef2a8_before.java.map\n"
     ]
    },
    {
     "name": "stderr",
     "output_type": "stream",
     "text": [
      "Parsing ERROR!\n"
     ]
    },
    {
     "name": "stdout",
     "output_type": "stream",
     "text": [
      "Source Code Abstracted successfully!\n",
      "Abstracted Code: ./masked_files/c2c02c8f_99d2f0a6_before.java and ./masked_files/c2c02c8f_99d2f0a6_after.java\n",
      "Mapping: ./masked_files/c2c02c8f_99d2f0a6_before.java.map\n"
     ]
    },
    {
     "name": "stderr",
     "output_type": "stream",
     "text": [
      "Parsing ERROR!\n"
     ]
    },
    {
     "name": "stdout",
     "output_type": "stream",
     "text": [
      "Source Code Abstracted successfully!\n",
      "Abstracted Code: ./masked_files/4d806afb_8756af6a_before.java and ./masked_files/4d806afb_8756af6a_after.java\n",
      "Mapping: ./masked_files/4d806afb_8756af6a_before.java.map\n"
     ]
    },
    {
     "name": "stderr",
     "output_type": "stream",
     "text": [
      "Parsing ERROR!\n"
     ]
    },
    {
     "name": "stdout",
     "output_type": "stream",
     "text": [
      "Source Code Abstracted successfully!\n",
      "Abstracted Code: ./masked_files/7ca165b9_9bf39e2f_before.java and ./masked_files/7ca165b9_9bf39e2f_after.java\n",
      "Mapping: ./masked_files/7ca165b9_9bf39e2f_before.java.map\n"
     ]
    },
    {
     "name": "stderr",
     "output_type": "stream",
     "text": [
      "Parsing ERROR!\n"
     ]
    },
    {
     "name": "stdout",
     "output_type": "stream",
     "text": [
      "Source Code Abstracted successfully!\n",
      "Abstracted Code: ./masked_files/42aefa39_379f1917_before.java and ./masked_files/42aefa39_379f1917_after.java\n",
      "Mapping: ./masked_files/42aefa39_379f1917_before.java.map\n"
     ]
    },
    {
     "name": "stderr",
     "output_type": "stream",
     "text": [
      "Parsing ERROR!\n",
      "line 531:86 token recognition error at: '\\'\n",
      "line 531:86 token recognition error at: '\\'\n"
     ]
    },
    {
     "name": "stdout",
     "output_type": "stream",
     "text": [
      "Source Code Abstracted successfully!\n",
      "Abstracted Code: ./masked_files/4ddf1150_88a6e516_before.java and ./masked_files/4ddf1150_88a6e516_after.java\n",
      "Mapping: ./masked_files/4ddf1150_88a6e516_before.java.map\n",
      "Source Code Abstracted successfully!\n",
      "Abstracted Code: ./masked_files/343e0792_12916045_before.java and ./masked_files/343e0792_12916045_after.java\n",
      "Mapping: ./masked_files/343e0792_12916045_before.java.map\n"
     ]
    },
    {
     "name": "stderr",
     "output_type": "stream",
     "text": [
      "Parsing ERROR!\n",
      "line 531:86 token recognition error at: '\\'\n",
      "line 531:86 token recognition error at: '\\'\n"
     ]
    }
   ],
   "source": [
    "# マスキング\n",
    "shutil.rmtree(\"./masked_files/\")\n",
    "os.mkdir(\"./masked_files/\")\n",
    "def masking(comments_id):\n",
    "  input_file_path_A = \"../2.preprocessing/java_files/\"+comments_id+\"_before.java\"\n",
    "  output_file_path_A = \"./masked_files/\"+comments_id+\"_before.java\"\n",
    "  input_file_path_B = \"../2.preprocessing/java_files/\"+comments_id+\"_after.java\"\n",
    "  output_file_path_B = \"./masked_files/\"+comments_id+\"_after.java\"\n",
    "  cp = subprocess.run([\"java\", \"-jar\",\"src2abs-0.1-jar-with-dependencies.jar\", \"pair\",\"method\",input_file_path_A, input_file_path_B,output_file_path_A,output_file_path_B,\"./idioms.csv\"])\n",
    "\n",
    "_ = comments_df[\"comments_id\"].apply(lambda x: masking(x))\n"
   ]
  },
  {
   "cell_type": "code",
   "execution_count": 7,
   "metadata": {},
   "outputs": [],
   "source": [
    "# マスキングしたファイルをpandasに入れる\n",
    "\n",
    "\n",
    "def load_masked_file(filepath):\n",
    "  with open(\"./masked_files/\"+filepath,\"r\", encoding=\"utf-8\") as f:\n",
    "    return f.read()\n",
    "  \n",
    "comments_df[\"masked_content_before\"]= comments_df[\"filepath_before\"].apply(lambda x: load_masked_file(x))\n",
    "comments_df[\"masked_content_after\"] = comments_df[\"filepath_after\"].apply(lambda x: load_masked_file(x))"
   ]
  },
  {
   "cell_type": "code",
   "execution_count": null,
   "metadata": {},
   "outputs": [],
   "source": []
  },
  {
   "cell_type": "code",
   "execution_count": 8,
   "metadata": {},
   "outputs": [],
   "source": [
    "#　辞書を作る\n",
    "\n",
    "def map_perser(filepath):\n",
    "  lines = list()\n",
    "  with open(\"./masked_files/\"+filepath+\".map\",\"r\", encoding=\"utf-8\") as f:\n",
    "    lines = list(map(lambda x: x.rstrip(\"\\n\"),f.readlines()))\n",
    "  di = dict()\n",
    "  for i in range(0,len(lines)-1,2):\n",
    "    if lines[i] ==\"\":\n",
    "      continue\n",
    "    keys = lines[i].split(\",\")\n",
    "    values = lines[i+1].split(\",\")\n",
    "    di_temp = dict(zip(keys, values))\n",
    "    di.update(di_temp)\n",
    "  if '' in di:\n",
    "    di.pop('')\n",
    "  return di\n",
    "\n",
    "def masking_message(message, filepath):\n",
    "  di = map_perser(filepath)\n",
    "  for k,v in di.items():\n",
    "    message = message.replace(k,v)\n",
    "  return message\n",
    "\n",
    "comments_df[\"masked_message\"] = comments_df.loc[:,[\"message\",\"filepath_before\"]].apply(lambda x: masking_message(x[0],x[1]),axis=1)"
   ]
  },
  {
   "cell_type": "code",
   "execution_count": 9,
   "metadata": {},
   "outputs": [],
   "source": [
    "comments_df.to_csv(\"./comments.csv\")\n",
    "comments_df.to_pickle(\"./comments.pkl\")"
   ]
  },
  {
   "cell_type": "code",
   "execution_count": 10,
   "metadata": {},
   "outputs": [
    {
     "data": {
      "text/plain": [
       "'We could also review this closing VAR_255 check. That way, the VAR_251 VAR_255 is VAR_229 closed when clicking VAR_906 button, to be consistent with normal VAR_255 logic. WDYT?'"
      ]
     },
     "execution_count": 10,
     "metadata": {},
     "output_type": "execute_result"
    }
   ],
   "source": [
    "comments_df.loc[0,\"masked_message\"]"
   ]
  }
 ],
 "metadata": {
  "interpreter": {
   "hash": "8b52450082a8de8a5b45e8be08c34f8d57cccdae220137bb0eba7ea176d16052"
  },
  "kernelspec": {
   "display_name": "Python 3.8.2 64-bit ('venv': venv)",
   "language": "python",
   "name": "python3"
  },
  "language_info": {
   "codemirror_mode": {
    "name": "ipython",
    "version": 3
   },
   "file_extension": ".py",
   "mimetype": "text/x-python",
   "name": "python",
   "nbconvert_exporter": "python",
   "pygments_lexer": "ipython3",
   "version": "3.8.2"
  },
  "orig_nbformat": 4
 },
 "nbformat": 4,
 "nbformat_minor": 2
}
