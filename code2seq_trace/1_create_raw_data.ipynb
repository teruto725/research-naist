{
 "cells": [
  {
   "cell_type": "markdown",
   "metadata": {},
   "source": [
    "code_reviewの中身のデータをそれぞれ別のjavaファイルに保存するスクリプト"
   ]
  },
  {
   "cell_type": "code",
   "execution_count": 6,
   "metadata": {},
   "outputs": [],
   "source": [
    "\n",
    "\n",
    "import pandas as pd\n",
    "import numpy as np"
   ]
  },
  {
   "cell_type": "code",
   "execution_count": 7,
   "metadata": {},
   "outputs": [],
   "source": [
    "BASEDIR =\"1_raw_data_for_c2s\"\n",
    "# java sourceの保存 statusはtrain or val or test が入る\n",
    "def saveJavaSource(idx: int, source_str: str, status:str,when:str ):\n",
    "  f = open(\"./\"+BASEDIR +\"/\" + when +\"/\"+status+\"/\"+str(idx)+\".java\", mode=\"w\")\n",
    "  f.write(source_str)\n",
    "  f.close()"
   ]
  },
  {
   "cell_type": "code",
   "execution_count": 8,
   "metadata": {},
   "outputs": [
    {
     "name": "stdout",
     "output_type": "stream",
     "text": [
      "done train/before\n",
      "done train/after\n",
      "done val/before\n",
      "done val/after\n",
      "done test/before\n",
      "done test/after\n"
     ]
    }
   ],
   "source": [
    "# ファイルを分割して保存する\n",
    "\n",
    "for status in [\"train\", \"val\",\"test\"]:\n",
    "  df = pd.read_csv(f\"./0_raw_data_splitted/{status}.csv\",index_col=0)\n",
    "  df[\"index\"] = df.index\n",
    "  df = df.head() # 10ファイルずつのみ\n",
    "  for when in [\"before\", \"after\"]:\n",
    "    df[[\"index\",when]].apply(lambda row: saveJavaSource(row[\"index\"],row[when],status,when), axis=1)\n",
    "    print(f\"done {status}/{when}\")\n"
   ]
  },
  {
   "cell_type": "code",
   "execution_count": 9,
   "metadata": {},
   "outputs": [],
   "source": [
    "# コピー先ディレクトリをきれいにする"
   ]
  },
  {
   "cell_type": "code",
   "execution_count": 10,
   "metadata": {},
   "outputs": [
    {
     "data": {
      "text/plain": [
       "['../code2seq/data/2_code_review/before/test/4.java',\n",
       " '../code2seq/data/2_code_review/before/test/3.java',\n",
       " '../code2seq/data/2_code_review/before/test/2.java',\n",
       " '../code2seq/data/2_code_review/before/test/1.java',\n",
       " '../code2seq/data/2_code_review/before/test/0.java',\n",
       " '../code2seq/data/2_code_review/before/train/4.java',\n",
       " '../code2seq/data/2_code_review/before/train/3.java',\n",
       " '../code2seq/data/2_code_review/before/train/2.java',\n",
       " '../code2seq/data/2_code_review/before/train/1.java',\n",
       " '../code2seq/data/2_code_review/before/train/0.java',\n",
       " '../code2seq/data/2_code_review/before/val/4.java',\n",
       " '../code2seq/data/2_code_review/before/val/3.java',\n",
       " '../code2seq/data/2_code_review/before/val/2.java',\n",
       " '../code2seq/data/2_code_review/before/val/1.java',\n",
       " '../code2seq/data/2_code_review/before/val/0.java',\n",
       " '../code2seq/data/2_code_review/after/test/4.java',\n",
       " '../code2seq/data/2_code_review/after/test/3.java',\n",
       " '../code2seq/data/2_code_review/after/test/2.java',\n",
       " '../code2seq/data/2_code_review/after/test/1.java',\n",
       " '../code2seq/data/2_code_review/after/test/0.java',\n",
       " '../code2seq/data/2_code_review/after/train/4.java',\n",
       " '../code2seq/data/2_code_review/after/train/3.java',\n",
       " '../code2seq/data/2_code_review/after/train/2.java',\n",
       " '../code2seq/data/2_code_review/after/train/1.java',\n",
       " '../code2seq/data/2_code_review/after/train/0.java',\n",
       " '../code2seq/data/2_code_review/after/val/4.java',\n",
       " '../code2seq/data/2_code_review/after/val/3.java',\n",
       " '../code2seq/data/2_code_review/after/val/2.java',\n",
       " '../code2seq/data/2_code_review/after/val/1.java',\n",
       " '../code2seq/data/2_code_review/after/val/0.java']"
      ]
     },
     "execution_count": 10,
     "metadata": {},
     "output_type": "execute_result"
    }
   ],
   "source": [
    "#　作ったjavaファイルをcode2seq/2_data_code_reviewにコピーする\n",
    "from distutils.dir_util import copy_tree\n",
    "copy_tree(\"./1_raw_data_for_c2s\", \"../code2seq/data/2_code_review\")\n"
   ]
  },
  {
   "cell_type": "code",
   "execution_count": 11,
   "metadata": {},
   "outputs": [],
   "source": [
    "# 元ディレクトリをきれいにする\n",
    "import shutil\n",
    "import os\n",
    "\n",
    "for status in [\"train\", \"val\",\"test\"]:\n",
    "  for when in [\"before\", \"after\"]:\n",
    "    target_dir = f\"./{BASEDIR}/{when}/{status}\"\n",
    "    shutil.rmtree(target_dir)\n",
    "    os.mkdir(target_dir)"
   ]
  },
  {
   "cell_type": "code",
   "execution_count": null,
   "metadata": {},
   "outputs": [],
   "source": [
    "# 最後に特定のディレクトリに移動して実行"
   ]
  }
 ],
 "metadata": {
  "interpreter": {
   "hash": "57c63e4c0a73a5825856c8510afa28cb532d6afc195e8c74ab3662df6a1d3f01"
  },
  "kernelspec": {
   "display_name": "Python 3.8.5 64-bit ('research-naist-_q8aR1NO': pipenv)",
   "language": "python",
   "name": "python3"
  },
  "language_info": {
   "codemirror_mode": {
    "name": "ipython",
    "version": 3
   },
   "file_extension": ".py",
   "mimetype": "text/x-python",
   "name": "python",
   "nbconvert_exporter": "python",
   "pygments_lexer": "ipython3",
   "version": "3.8.5"
  },
  "orig_nbformat": 4
 },
 "nbformat": 4,
 "nbformat_minor": 2
}
